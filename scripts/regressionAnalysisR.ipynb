{
 "cells": [
  {
   "cell_type": "markdown",
   "metadata": {},
   "source": [
    "### Setup\n"
   ]
  },
  {
   "cell_type": "markdown",
   "metadata": {},
   "source": [
    "R code for ordinal regression\n"
   ]
  },
  {
   "cell_type": "code",
   "execution_count": null,
   "metadata": {
    "vscode": {
     "languageId": "r"
    }
   },
   "outputs": [
    {
     "name": "stderr",
     "output_type": "stream",
     "text": [
      "Loading required package: reshape\n",
      "\n"
     ]
    }
   ],
   "source": [
    "library(readr)\n",
    "library(MASS)\n",
    "library(ordinal)\n",
    "library(brant)\n",
    "library(broom)\n",
    "library(generalhoslem)\n",
    "library(boot)"
   ]
  },
  {
   "cell_type": "code",
   "execution_count": null,
   "metadata": {
    "vscode": {
     "languageId": "r"
    }
   },
   "outputs": [],
   "source": [
    "if (file.exists(\"data/debates_augmented.csv\")) {\n",
    "    mydf <- read_csv(\"data/debates_augmented.csv\")\n",
    "} else {\n",
    "    cat(\"File not found: data/debates_augmented.csv. Please run `python process_data.py` first.\")\n",
    "}"
   ]
  },
  {
   "cell_type": "code",
   "execution_count": 3,
   "metadata": {
    "vscode": {
     "languageId": "r"
    }
   },
   "outputs": [],
   "source": [
    "mydf$sideAgreementPostTreatment = ordered(mydf$sideAgreementPostTreatment)\n",
    "\n",
    "mydf$sideAgreementPreTreatment = factor(mydf$sideAgreementPreTreatment, levels=c(1, 2, 3, 4, 5))\n",
    "backward.diff = matrix(c(-4/5, 1/5, 1/5, 1/5, 1/5, -3/5, -3/5, 2/5, 2/5, 2/5, -2/5, \n",
    "                         -2/5, -2/5, 3/5, 3/5, -1/5, -1/5, -1/5, -1/5, 4/5), ncol = 4)\n",
    "contrasts(mydf$sideAgreementPreTreatment) = backward.diff\n",
    "\n",
    "mydf<- mydf[mydf$treatmentType %in% c(\"Human-Human\", \"Human-AI\", \"Human-Human, personalized\", \"Human-AI, personalized\"), ]\n",
    "mydf$treatmentType = factor(mydf$treatmentType, levels=c(\"Human-Human\", \"Human-AI\", \"Human-Human, personalized\", \"Human-AI, personalized\"))"
   ]
  },
  {
   "cell_type": "code",
   "execution_count": 4,
   "metadata": {
    "vscode": {
     "languageId": "r"
    }
   },
   "outputs": [],
   "source": [
    "mydf$gender = factor(mydf$gender, levels=c(\"male\", \"female\", \"other\"))\n",
    "mydf$age = factor(mydf$age, levels=c(\"18-24\", \"25-34\", \"35-44\", \"45-54\", \"55-64\", \"65+\"))\n",
    "mydf$ethnicity = factor(mydf$ethnicity, levels=c(\"white\", \"black\", \"asian\", \"latino\", \"mixed\", \"other\"))\n",
    "mydf$education = factor(mydf$education, levels=c(\"high-school\", \"no-degree\", \"vocational\", \"bachelor\", \"master\", \"phd\"))\n",
    "mydf$employmentStatus = factor(mydf$employmentStatus, levels=c(\"employed-wages\", \"self-employed\", \"unemployed\", \"student\", \"retired\", \"other\"))\n",
    "mydf$politicalAffiliation = factor(mydf$politicalAffiliation, levels=c(\"democrat\", \"republican\", \"independent\", \"other\"))\n",
    "\n",
    "mydf$topicCluster = factor(mydf$topicCluster, levels=c(1, 2, 3))\n",
    "mydf$topicClusterNew = factor(mydf$topicClusterNew, levels=c(1,  2, 3))\n",
    "mydf$strengthPreTreatment = factor(mydf$strengthPreTreatment, levels=c(0, 1, 2))\n",
    "\n",
    "# normalize to range [0, 1]\n",
    "mydf$overallOpponent_Analytic = mydf$overallOpponent_Analytic / 100\n",
    "mydf$overallOpponent_Clout = mydf$overallOpponent_Clout / 100\n",
    "mydf$overallOpponent_Authentic = mydf$overallOpponent_Authentic / 100\n",
    "mydf$overallOpponent_Tone = mydf$overallOpponent_Tone / 100\n",
    "mydf$overallOpponentFlesch = mydf$overallOpponentFlesch / 100"
   ]
  },
  {
   "cell_type": "markdown",
   "metadata": {},
   "source": [
    "### Brant test\n"
   ]
  },
  {
   "cell_type": "code",
   "execution_count": 5,
   "metadata": {
    "vscode": {
     "languageId": "r"
    }
   },
   "outputs": [
    {
     "name": "stdout",
     "output_type": "stream",
     "text": [
      "---------------------------------------------------------------------------- \n",
      "Test for\t\t\t\t\tX2\tdf\tprobability \n",
      "---------------------------------------------------------------------------- \n",
      "Omnibus\t\t\t\t\t\t128.32\t21\t0\n",
      "treatmentTypeHuman-AI\t\t\t\t5.89\t3\t0.12\n",
      "treatmentTypeHuman-Human, personalized\t10.03\t3\t0.02\n",
      "treatmentTypeHuman-AI, personalized\t\t3.35\t3\t0.34\n",
      "sideAgreementPreTreatment1\t\t\t36.71\t3\t0\n",
      "sideAgreementPreTreatment2\t\t\t9.3\t3\t0.03\n",
      "sideAgreementPreTreatment3\t\t\t22.13\t3\t0\n",
      "sideAgreementPreTreatment4\t\t\t32.08\t3\t0\n",
      "---------------------------------------------------------------------------- \n",
      "\n",
      "H0: Parallel Regression Assumption holds\n"
     ]
    },
    {
     "name": "stderr",
     "output_type": "stream",
     "text": [
      "Warning message in brant(model):\n",
      "\"6 combinations in table(dv,ivs) do not occur. Because of that, the test results might be invalid.\"\n"
     ]
    }
   ],
   "source": [
    "# Testing the parallel lines assumption\n",
    "model <- polr(formula = sideAgreementPostTreatment ~ treatmentType + sideAgreementPreTreatment, data=mydf, Hess=TRUE)\n",
    "# summary(model)\n",
    "brant(model)"
   ]
  },
  {
   "cell_type": "markdown",
   "metadata": {},
   "source": [
    "### Key result\n"
   ]
  },
  {
   "cell_type": "code",
   "execution_count": 6,
   "metadata": {
    "vscode": {
     "languageId": "r"
    }
   },
   "outputs": [
    {
     "name": "stdout",
     "output_type": "stream",
     "text": [
      "dof: 727 \n"
     ]
    },
    {
     "data": {
      "text/plain": [
       "formula: sideAgreementPostTreatment ~ treatmentType\n",
       "nominal: ~sideAgreementPreTreatment\n",
       "data:    mydf\n",
       "\n",
       " link  threshold nobs logLik  AIC     niter max.grad cond.H \n",
       " logit flexible  750  -957.53 1961.06 8(0)  1.26e-08 3.3e+02\n",
       "\n",
       "Coefficients:\n",
       "                                       Estimate Std. Error z value Pr(>|z|)   \n",
       "treatmentTypeHuman-AI                    0.1978     0.1914   1.034  0.30118   \n",
       "treatmentTypeHuman-Human, personalized  -0.1709     0.1929  -0.886  0.37547   \n",
       "treatmentTypeHuman-AI, personalized      0.5945     0.1856   3.204  0.00136 **\n",
       "---\n",
       "Signif. codes:  0 '***' 0.001 '**' 0.01 '*' 0.05 '.' 0.1 ' ' 1\n",
       "\n",
       "Threshold coefficients:\n",
       "                               Estimate Std. Error z value\n",
       "1|2.(Intercept)                 -1.7102     0.1733  -9.868\n",
       "2|3.(Intercept)                 -0.4400     0.1246  -3.532\n",
       "3|4.(Intercept)                  1.0926     0.1298   8.420\n",
       "4|5.(Intercept)                  2.3581     0.1659  14.213\n",
       "1|2.sideAgreementPreTreatment1  -1.8869     0.2530  -7.459\n",
       "2|3.sideAgreementPreTreatment1  -0.7526     0.2505  -3.005\n",
       "3|4.sideAgreementPreTreatment1   0.2008     0.3555   0.565\n",
       "4|5.sideAgreementPreTreatment1   0.3446     0.5177   0.666\n",
       "1|2.sideAgreementPreTreatment2  -0.7383     0.3141  -2.351\n",
       "2|3.sideAgreementPreTreatment2  -1.3288     0.2414  -5.505\n",
       "3|4.sideAgreementPreTreatment2  -0.6199     0.3362  -1.844\n",
       "4|5.sideAgreementPreTreatment2  -0.3899     0.5180  -0.753\n",
       "1|2.sideAgreementPreTreatment3  -1.9312     0.6356  -3.038\n",
       "2|3.sideAgreementPreTreatment3  -0.7406     0.2809  -2.637\n",
       "3|4.sideAgreementPreTreatment3  -1.7563     0.2717  -6.464\n",
       "4|5.sideAgreementPreTreatment3  -0.5568     0.4393  -1.267\n",
       "1|2.sideAgreementPreTreatment4   1.3458     0.6784   1.984\n",
       "2|3.sideAgreementPreTreatment4  -0.5097     0.3570  -1.428\n",
       "3|4.sideAgreementPreTreatment4  -0.6393     0.2536  -2.521\n",
       "4|5.sideAgreementPreTreatment4  -2.0581     0.3265  -6.304"
      ]
     },
     "metadata": {},
     "output_type": "display_data"
    }
   ],
   "source": [
    "# Partial Proportional Odds. Now only treatmentType uses the parallel lines assumption\n",
    "model <- ordinal::clm(formula = sideAgreementPostTreatment ~ treatmentType, nominal= ~ sideAgreementPreTreatment, data=mydf, link=\"logit\")\n",
    "write.csv(tidy(model), \"data/analysis_paper/model.csv\", row.names = FALSE)\n",
    "cat(\"dof:\", model$df, \"\\n\")\n",
    "summary(model)\n"
   ]
  },
  {
   "cell_type": "code",
   "execution_count": 7,
   "metadata": {
    "vscode": {
     "languageId": "r"
    }
   },
   "outputs": [
    {
     "name": "stderr",
     "output_type": "stream",
     "text": [
      "Warning message:\n",
      "\"contrasts dropped from factor sideAgreementPreTreatment\"\n"
     ]
    },
    {
     "data": {
      "text/plain": [
       "\n",
       "\tLipsitz goodness of fit test for ordinal response models\n",
       "\n",
       "data:  formula:  sideAgreementPostTreatment ~ treatmentType\n",
       "LR statistic = 10.87, df = 19, p-value = 0.9281\n"
      ]
     },
     "metadata": {},
     "output_type": "display_data"
    }
   ],
   "source": [
    "lipsitz.test(model, 20)"
   ]
  },
  {
   "cell_type": "code",
   "execution_count": 8,
   "metadata": {
    "vscode": {
     "languageId": "r"
    }
   },
   "outputs": [
    {
     "name": "stderr",
     "output_type": "stream",
     "text": [
      "Warning message:\n",
      "\"contrasts dropped from factor sideAgreementPreTreatment\"\n"
     ]
    },
    {
     "data": {
      "text/plain": [
       "\n",
       "\tPulkstenis-Robinson deviance test\n",
       "\n",
       "data:  formula:  sideAgreementPostTreatment ~ treatmentType\n",
       "Deviance-squared = 35.861, df = 26, p-value = 0.09426\n"
      ]
     },
     "metadata": {},
     "output_type": "display_data"
    }
   ],
   "source": [
    "pulkrob.deviance(model, c(\"treatmentType\"))"
   ]
  },
  {
   "cell_type": "code",
   "execution_count": 9,
   "metadata": {
    "vscode": {
     "languageId": "r"
    }
   },
   "outputs": [
    {
     "name": "stderr",
     "output_type": "stream",
     "text": [
      "Warning message:\n",
      "\"contrasts dropped from factor sideAgreementPreTreatment\"\n"
     ]
    },
    {
     "data": {
      "text/plain": [
       "\n",
       "\tPulkstenis-Robinson chi-squared test\n",
       "\n",
       "data:  formula:  sideAgreementPostTreatment ~ treatmentType\n",
       "X-squared = 34.189, df = 26, p-value = 0.1303\n"
      ]
     },
     "metadata": {},
     "output_type": "display_data"
    }
   ],
   "source": [
    "pulkrob.chisq(model, c(\"treatmentType\"))"
   ]
  },
  {
   "cell_type": "code",
   "execution_count": 10,
   "metadata": {
    "vscode": {
     "languageId": "r"
    }
   },
   "outputs": [
    {
     "name": "stderr",
     "output_type": "stream",
     "text": [
      "Warning message:\n",
      "\"contrasts dropped from factor sideAgreementPreTreatment\"\n"
     ]
    },
    {
     "data": {
      "text/plain": [
       "\n",
       "\tHosmer and Lemeshow test (ordinal model)\n",
       "\n",
       "data:  mydf$sideAgreementPostTreatment, fv\n",
       "X-squared = 18.623, df = 35, p-value = 0.9894\n"
      ]
     },
     "metadata": {},
     "output_type": "display_data"
    }
   ],
   "source": [
    "predprob <- data.frame(treatmentType = mydf$treatmentType, sideAgreementPreTreatment = mydf$sideAgreementPreTreatment)\n",
    "fv <- predict(model, newdata = predprob, type = \"prob\")$fit\n",
    "logitgof(mydf$sideAgreementPostTreatment, fv, ord = TRUE)"
   ]
  },
  {
   "cell_type": "markdown",
   "metadata": {},
   "source": [
    "### Pre-registration analysis\n"
   ]
  },
  {
   "cell_type": "code",
   "execution_count": 11,
   "metadata": {
    "vscode": {
     "languageId": "r"
    }
   },
   "outputs": [],
   "source": [
    "mydf_prereg <- mydf[mydf$treatmentType %in% c(\"Human-Human\", \"Human-AI\", \"Human-AI, personalized\"), ]\n",
    "\n",
    "# Create 9 treatments, combining the 3 treatmentTypes with the 3 levels of topicClusterNew\n",
    "mydf_prereg$treatmentNew = paste(mydf_prereg$treatmentType, mydf_prereg$topicClusterNew, sep = \"_\")\n",
    "mydf_prereg$treatmentNew = factor(mydf_prereg$treatmentNew, levels=c(\"Human-Human_1\", \"Human-Human_2\", \"Human-Human_3\", \"Human-AI_1\", \"Human-AI_2\", \"Human-AI_3\", \"Human-AI, personalized_1\", \"Human-AI, personalized_2\", \"Human-AI, personalized_3\"))"
   ]
  },
  {
   "cell_type": "code",
   "execution_count": 12,
   "metadata": {
    "vscode": {
     "languageId": "r"
    }
   },
   "outputs": [
    {
     "name": "stdout",
     "output_type": "stream",
     "text": [
      "dof: 572 \n"
     ]
    },
    {
     "data": {
      "text/plain": [
       "formula: sideAgreementPostTreatment ~ treatmentNew\n",
       "nominal: ~sideAgreementPreTreatment\n",
       "data:    mydf_prereg\n",
       "\n",
       " link  threshold nobs logLik  AIC     niter max.grad cond.H \n",
       " logit flexible  600  -763.52 1583.05 6(0)  2.21e-07 2.6e+02\n",
       "\n",
       "Coefficients:\n",
       "                                     Estimate Std. Error z value Pr(>|z|)  \n",
       "treatmentNewHuman-Human_2            -0.01599    0.26618  -0.060   0.9521  \n",
       "treatmentNewHuman-Human_3             0.14919    0.27520   0.542   0.5877  \n",
       "treatmentNewHuman-AI_1                0.22916    0.32745   0.700   0.4840  \n",
       "treatmentNewHuman-AI_2                0.35997    0.32909   1.094   0.2740  \n",
       "treatmentNewHuman-AI_3                0.10720    0.34719   0.309   0.7575  \n",
       "treatmentNewHuman-AI, personalized_1  0.60765    0.31706   1.917   0.0553 .\n",
       "treatmentNewHuman-AI, personalized_2  0.69559    0.32679   2.129   0.0333 *\n",
       "treatmentNewHuman-AI, personalized_3  0.67101    0.32773   2.047   0.0406 *\n",
       "---\n",
       "Signif. codes:  0 '***' 0.001 '**' 0.01 '*' 0.05 '.' 0.1 ' ' 1\n",
       "\n",
       "Threshold coefficients:\n",
       "                               Estimate Std. Error z value\n",
       "1|2.(Intercept)                -1.69300    0.23740  -7.131\n",
       "2|3.(Intercept)                -0.42381    0.20095  -2.109\n",
       "3|4.(Intercept)                 1.24054    0.20845   5.951\n",
       "4|5.(Intercept)                 2.53967    0.24427  10.397\n",
       "1|2.sideAgreementPreTreatment1 -2.00657    0.29807  -6.732\n",
       "2|3.sideAgreementPreTreatment1 -0.96431    0.28535  -3.379\n",
       "3|4.sideAgreementPreTreatment1 -0.02310    0.41106  -0.056\n",
       "4|5.sideAgreementPreTreatment1  0.06436    0.64762   0.099\n",
       "1|2.sideAgreementPreTreatment2 -0.75970    0.37889  -2.005\n",
       "2|3.sideAgreementPreTreatment2 -1.30211    0.27631  -4.712\n",
       "3|4.sideAgreementPreTreatment2 -0.54041    0.37783  -1.430\n",
       "4|5.sideAgreementPreTreatment2 -0.48166    0.60214  -0.800\n",
       "1|2.sideAgreementPreTreatment3 -1.57622    0.66029  -2.387\n",
       "2|3.sideAgreementPreTreatment3 -0.70516    0.32217  -2.189\n",
       "3|4.sideAgreementPreTreatment3 -1.72555    0.30630  -5.633\n",
       "4|5.sideAgreementPreTreatment3 -0.67867    0.48464  -1.400\n",
       "1|2.sideAgreementPreTreatment4  0.99080    0.72147   1.373\n",
       "2|3.sideAgreementPreTreatment4 -0.40133    0.40394  -0.994\n",
       "3|4.sideAgreementPreTreatment4 -0.69486    0.28246  -2.460\n",
       "4|5.sideAgreementPreTreatment4 -1.96325    0.34913  -5.623"
      ]
     },
     "metadata": {},
     "output_type": "display_data"
    }
   ],
   "source": [
    "model <- ordinal::clm(formula = sideAgreementPostTreatment ~ treatmentNew, nominal= ~ sideAgreementPreTreatment, data=mydf_prereg, link=\"logit\")\n",
    "write.csv(tidy(model), \"data/analysis_paper/model_preregistration1.csv\", row.names = FALSE)\n",
    "cat(\"dof:\", model$df, \"\\n\")\n",
    "summary(model)"
   ]
  },
  {
   "cell_type": "code",
   "execution_count": 13,
   "metadata": {
    "vscode": {
     "languageId": "r"
    }
   },
   "outputs": [
    {
     "name": "stdout",
     "output_type": "stream",
     "text": [
      "dof: 572 \n"
     ]
    },
    {
     "data": {
      "text/plain": [
       "formula: sideAgreementPostTreatment ~ treatmentType * topicClusterNew\n",
       "nominal: ~sideAgreementPreTreatment\n",
       "data:    mydf_prereg\n",
       "\n",
       " link  threshold nobs logLik  AIC     niter max.grad cond.H \n",
       " logit flexible  600  -763.52 1583.05 6(0)  2.21e-07 2.6e+02\n",
       "\n",
       "Coefficients:\n",
       "                                                     Estimate Std. Error\n",
       "treatmentTypeHuman-AI                                 0.22916    0.32745\n",
       "treatmentTypeHuman-AI, personalized                   0.60765    0.31706\n",
       "topicClusterNew2                                     -0.01599    0.26618\n",
       "topicClusterNew3                                      0.14919    0.27520\n",
       "treatmentTypeHuman-AI:topicClusterNew2                0.14680    0.46487\n",
       "treatmentTypeHuman-AI, personalized:topicClusterNew2  0.10393    0.45305\n",
       "treatmentTypeHuman-AI:topicClusterNew3               -0.27115    0.47940\n",
       "treatmentTypeHuman-AI, personalized:topicClusterNew3 -0.08583    0.45535\n",
       "                                                     z value Pr(>|z|)  \n",
       "treatmentTypeHuman-AI                                  0.700   0.4840  \n",
       "treatmentTypeHuman-AI, personalized                    1.917   0.0553 .\n",
       "topicClusterNew2                                      -0.060   0.9521  \n",
       "topicClusterNew3                                       0.542   0.5877  \n",
       "treatmentTypeHuman-AI:topicClusterNew2                 0.316   0.7522  \n",
       "treatmentTypeHuman-AI, personalized:topicClusterNew2   0.229   0.8186  \n",
       "treatmentTypeHuman-AI:topicClusterNew3                -0.566   0.5717  \n",
       "treatmentTypeHuman-AI, personalized:topicClusterNew3  -0.188   0.8505  \n",
       "---\n",
       "Signif. codes:  0 '***' 0.001 '**' 0.01 '*' 0.05 '.' 0.1 ' ' 1\n",
       "\n",
       "Threshold coefficients:\n",
       "                               Estimate Std. Error z value\n",
       "1|2.(Intercept)                -1.69300    0.23740  -7.131\n",
       "2|3.(Intercept)                -0.42381    0.20095  -2.109\n",
       "3|4.(Intercept)                 1.24054    0.20845   5.951\n",
       "4|5.(Intercept)                 2.53967    0.24427  10.397\n",
       "1|2.sideAgreementPreTreatment1 -2.00657    0.29807  -6.732\n",
       "2|3.sideAgreementPreTreatment1 -0.96431    0.28535  -3.379\n",
       "3|4.sideAgreementPreTreatment1 -0.02310    0.41106  -0.056\n",
       "4|5.sideAgreementPreTreatment1  0.06436    0.64762   0.099\n",
       "1|2.sideAgreementPreTreatment2 -0.75970    0.37889  -2.005\n",
       "2|3.sideAgreementPreTreatment2 -1.30211    0.27631  -4.712\n",
       "3|4.sideAgreementPreTreatment2 -0.54041    0.37783  -1.430\n",
       "4|5.sideAgreementPreTreatment2 -0.48166    0.60214  -0.800\n",
       "1|2.sideAgreementPreTreatment3 -1.57622    0.66029  -2.387\n",
       "2|3.sideAgreementPreTreatment3 -0.70516    0.32217  -2.189\n",
       "3|4.sideAgreementPreTreatment3 -1.72555    0.30630  -5.633\n",
       "4|5.sideAgreementPreTreatment3 -0.67867    0.48464  -1.400\n",
       "1|2.sideAgreementPreTreatment4  0.99080    0.72147   1.373\n",
       "2|3.sideAgreementPreTreatment4 -0.40133    0.40394  -0.994\n",
       "3|4.sideAgreementPreTreatment4 -0.69486    0.28246  -2.460\n",
       "4|5.sideAgreementPreTreatment4 -1.96325    0.34913  -5.623"
      ]
     },
     "metadata": {},
     "output_type": "display_data"
    }
   ],
   "source": [
    "model <- ordinal::clm(formula = sideAgreementPostTreatment ~ treatmentType * topicClusterNew, nominal= ~ sideAgreementPreTreatment, data=mydf_prereg, link=\"logit\")\n",
    "write.csv(tidy(model), \"data/analysis_paper/model_preregistration2.csv\", row.names = FALSE)\n",
    "cat(\"dof:\", model$df, \"\\n\")\n",
    "summary(model)"
   ]
  },
  {
   "cell_type": "markdown",
   "metadata": {},
   "source": [
    "### Topic Analysis\n"
   ]
  },
  {
   "cell_type": "code",
   "execution_count": 14,
   "metadata": {
    "vscode": {
     "languageId": "r"
    }
   },
   "outputs": [
    {
     "name": "stdout",
     "output_type": "stream",
     "text": [
      "dof: 227 \n"
     ]
    },
    {
     "data": {
      "text/plain": [
       "formula: sideAgreementPostTreatment ~ treatmentType\n",
       "nominal: ~sideAgreementPreTreatment\n",
       "data:    mydf[mydf$topicClusterNew == 1, ]\n",
       "\n",
       " link  threshold nobs logLik  AIC    niter max.grad cond.H \n",
       " logit flexible  250  -315.31 676.62 6(0)  1.83e-09 3.0e+02\n",
       "\n",
       "Coefficients:\n",
       "                                       Estimate Std. Error z value Pr(>|z|)  \n",
       "treatmentTypeHuman-AI                   0.15613    0.33232   0.470   0.6385  \n",
       "treatmentTypeHuman-Human, personalized  0.08543    0.33787   0.253   0.8004  \n",
       "treatmentTypeHuman-AI, personalized     0.67868    0.32388   2.095   0.0361 *\n",
       "---\n",
       "Signif. codes:  0 '***' 0.001 '**' 0.01 '*' 0.05 '.' 0.1 ' ' 1\n",
       "\n",
       "Threshold coefficients:\n",
       "                               Estimate Std. Error z value\n",
       "1|2.(Intercept)                 -1.8262     0.3037  -6.014\n",
       "2|3.(Intercept)                 -0.3273     0.2170  -1.508\n",
       "3|4.(Intercept)                  1.3893     0.2427   5.725\n",
       "4|5.(Intercept)                  2.6345     0.3323   7.929\n",
       "1|2.sideAgreementPreTreatment1  -2.0909     0.5212  -4.012\n",
       "2|3.sideAgreementPreTreatment1  -0.3223     0.4724  -0.682\n",
       "3|4.sideAgreementPreTreatment1   0.8514     0.7135   1.193\n",
       "4|5.sideAgreementPreTreatment1   1.2841     1.2470   1.030\n",
       "1|2.sideAgreementPreTreatment2  -0.3957     0.5518  -0.717\n",
       "2|3.sideAgreementPreTreatment2  -1.5692     0.3812  -4.116\n",
       "3|4.sideAgreementPreTreatment2  -0.7342     0.6221  -1.180\n",
       "4|5.sideAgreementPreTreatment2  -1.4173     1.1114  -1.275\n",
       "1|2.sideAgreementPreTreatment3  -1.8249     1.0851  -1.682\n",
       "2|3.sideAgreementPreTreatment3  -0.6038     0.4376  -1.380\n",
       "3|4.sideAgreementPreTreatment3  -2.1474     0.4357  -4.928\n",
       "4|5.sideAgreementPreTreatment3  -0.7282     0.6183  -1.178\n",
       "1|2.sideAgreementPreTreatment4   2.0575     1.1826   1.740\n",
       "2|3.sideAgreementPreTreatment4   0.1870     0.6108   0.306\n",
       "3|4.sideAgreementPreTreatment4   0.1444     0.4809   0.300\n",
       "4|5.sideAgreementPreTreatment4  -1.2396     0.5839  -2.123"
      ]
     },
     "metadata": {},
     "output_type": "display_data"
    }
   ],
   "source": [
    "model <- ordinal::clm(formula = sideAgreementPostTreatment ~ treatmentType, nominal= ~ sideAgreementPreTreatment, data=mydf[mydf$topicClusterNew == 1,], link=\"logit\")\n",
    "write.csv(tidy(model), \"data/analysis_paper/model_topic_cluster1.csv\", row.names = FALSE)\n",
    "cat(\"dof:\", model$df, \"\\n\")\n",
    "summary(model)"
   ]
  },
  {
   "cell_type": "code",
   "execution_count": 15,
   "metadata": {
    "vscode": {
     "languageId": "r"
    }
   },
   "outputs": [
    {
     "name": "stdout",
     "output_type": "stream",
     "text": [
      "dof: 227 \n"
     ]
    },
    {
     "data": {
      "text/plain": [
       "formula: sideAgreementPostTreatment ~ treatmentType\n",
       "nominal: ~sideAgreementPreTreatment\n",
       "data:    mydf[mydf$topicClusterNew == 2, ]\n",
       "\n",
       " link  threshold nobs logLik  AIC    niter max.grad cond.H \n",
       " logit flexible  250  -327.69 701.39 6(1)  3.30e-07 3.0e+02\n",
       "\n",
       "Coefficients:\n",
       "                                       Estimate Std. Error z value Pr(>|z|)  \n",
       "treatmentTypeHuman-AI                  0.318197   0.326377   0.975   0.3296  \n",
       "treatmentTypeHuman-Human, personalized 0.006303   0.338331   0.019   0.9851  \n",
       "treatmentTypeHuman-AI, personalized    0.649980   0.324669   2.002   0.0453 *\n",
       "---\n",
       "Signif. codes:  0 '***' 0.001 '**' 0.01 '*' 0.05 '.' 0.1 ' ' 1\n",
       "\n",
       "Threshold coefficients:\n",
       "                               Estimate Std. Error z value\n",
       "1|2.(Intercept)                -1.64754    0.29769  -5.534\n",
       "2|3.(Intercept)                -0.34253    0.21705  -1.578\n",
       "3|4.(Intercept)                 1.05421    0.22415   4.703\n",
       "4|5.(Intercept)                 2.46254    0.30046   8.196\n",
       "1|2.sideAgreementPreTreatment1 -1.55670    0.42147  -3.694\n",
       "2|3.sideAgreementPreTreatment1 -1.06213    0.44402  -2.392\n",
       "3|4.sideAgreementPreTreatment1 -0.57038    0.58759  -0.971\n",
       "4|5.sideAgreementPreTreatment1 -0.51258    0.88978  -0.576\n",
       "1|2.sideAgreementPreTreatment2 -0.73565    0.53278  -1.381\n",
       "2|3.sideAgreementPreTreatment2 -1.05951    0.41421  -2.558\n",
       "3|4.sideAgreementPreTreatment2 -0.09984    0.52582  -0.190\n",
       "4|5.sideAgreementPreTreatment2  0.41135    0.89208   0.461\n",
       "1|2.sideAgreementPreTreatment3 -2.17386    1.10160  -1.973\n",
       "2|3.sideAgreementPreTreatment3 -0.84935    0.47375  -1.793\n",
       "3|4.sideAgreementPreTreatment3 -1.62853    0.47861  -3.403\n",
       "4|5.sideAgreementPreTreatment3 -0.81356    0.86483  -0.941\n",
       "1|2.sideAgreementPreTreatment4  1.51093    1.17503   1.286\n",
       "2|3.sideAgreementPreTreatment4 -0.67552    0.63405  -1.065\n",
       "3|4.sideAgreementPreTreatment4 -1.02871    0.45737  -2.249\n",
       "4|5.sideAgreementPreTreatment4 -2.26663    0.56883  -3.985"
      ]
     },
     "metadata": {},
     "output_type": "display_data"
    }
   ],
   "source": [
    "model <- ordinal::clm(formula = sideAgreementPostTreatment ~ treatmentType, nominal= ~ sideAgreementPreTreatment, data=mydf[mydf$topicClusterNew == 2,], link=\"logit\")\n",
    "write.csv(tidy(model), \"data/analysis_paper/model_topic_cluster2.csv\", row.names = FALSE)\n",
    "cat(\"dof:\", model$df, \"\\n\")\n",
    "summary(model)"
   ]
  },
  {
   "cell_type": "code",
   "execution_count": 16,
   "metadata": {
    "vscode": {
     "languageId": "r"
    }
   },
   "outputs": [
    {
     "name": "stdout",
     "output_type": "stream",
     "text": [
      "dof: 227 \n"
     ]
    },
    {
     "data": {
      "text/plain": [
       "formula: sideAgreementPostTreatment ~ treatmentType\n",
       "nominal: ~sideAgreementPreTreatment\n",
       "data:    mydf[mydf$topicClusterNew == 3, ]\n",
       "\n",
       " link  threshold nobs logLik  AIC    niter max.grad cond.H \n",
       " logit flexible  250  -296.58 639.17 7(2)  1.84e-09 6.6e+02\n",
       "\n",
       "Coefficients:\n",
       "                                        Estimate Std. Error z value Pr(>|z|)  \n",
       "treatmentTypeHuman-AI                   0.005693   0.349796   0.016   0.9870  \n",
       "treatmentTypeHuman-Human, personalized -0.614073   0.347194  -1.769   0.0769 .\n",
       "treatmentTypeHuman-AI, personalized     0.495813   0.334195   1.484   0.1379  \n",
       "---\n",
       "Signif. codes:  0 '***' 0.001 '**' 0.01 '*' 0.05 '.' 0.1 ' ' 1\n",
       "\n",
       "Threshold coefficients:\n",
       "                               Estimate Std. Error z value\n",
       "1|2.(Intercept)                -1.65745    0.31094  -5.330\n",
       "2|3.(Intercept)                -0.62468    0.23069  -2.708\n",
       "3|4.(Intercept)                 0.89559    0.23918   3.744\n",
       "4|5.(Intercept)                 2.20000    0.30270   7.268\n",
       "1|2.sideAgreementPreTreatment1 -1.90336    0.42621  -4.466\n",
       "2|3.sideAgreementPreTreatment1 -0.79921    0.42437  -1.883\n",
       "3|4.sideAgreementPreTreatment1  0.73923    0.70034   1.056\n",
       "4|5.sideAgreementPreTreatment1  0.52694    0.86295   0.611\n",
       "1|2.sideAgreementPreTreatment2 -0.82566    0.59187  -1.395\n",
       "2|3.sideAgreementPreTreatment2 -1.28162    0.50202  -2.553\n",
       "3|4.sideAgreementPreTreatment2 -1.76414    0.73384  -2.404\n",
       "4|5.sideAgreementPreTreatment2 -0.56408    1.03552  -0.545\n",
       "1|2.sideAgreementPreTreatment3 -1.91329    1.13078  -1.692\n",
       "2|3.sideAgreementPreTreatment3 -0.89700    0.59775  -1.501\n",
       "3|4.sideAgreementPreTreatment3 -1.21151    0.53419  -2.268\n",
       "4|5.sideAgreementPreTreatment3 -0.04231    0.95576  -0.044\n",
       "1|2.sideAgreementPreTreatment4  0.60921    1.17550   0.518\n",
       "2|3.sideAgreementPreTreatment4 -0.81263    0.64867  -1.253\n",
       "3|4.sideAgreementPreTreatment4 -0.77505    0.43691  -1.774\n",
       "4|5.sideAgreementPreTreatment4 -2.58190    0.65828  -3.922"
      ]
     },
     "metadata": {},
     "output_type": "display_data"
    }
   ],
   "source": [
    "model <- ordinal::clm(formula = sideAgreementPostTreatment ~ treatmentType, nominal= ~ sideAgreementPreTreatment, data=mydf[mydf$topicClusterNew == 3,], link=\"logit\")\n",
    "write.csv(tidy(model), \"data/analysis_paper/model_topic_cluster3.csv\", row.names = FALSE)\n",
    "cat(\"dof:\", model$df, \"\\n\")\n",
    "summary(model)"
   ]
  },
  {
   "cell_type": "markdown",
   "metadata": {},
   "source": [
    "### Linear regression\n"
   ]
  },
  {
   "cell_type": "code",
   "execution_count": 17,
   "metadata": {
    "vscode": {
     "languageId": "r"
    }
   },
   "outputs": [
    {
     "name": "stdout",
     "output_type": "stream",
     "text": [
      "dof: 746 \n"
     ]
    },
    {
     "data": {
      "text/plain": [
       "\n",
       "Call:\n",
       "lm(formula = delta ~ treatmentType, data = mydf)\n",
       "\n",
       "Residuals:\n",
       "    Min      1Q  Median      3Q     Max \n",
       "-3.9800 -0.7767  0.1600  0.2233  4.2233 \n",
       "\n",
       "Coefficients:\n",
       "                                       Estimate Std. Error t value Pr(>|t|)   \n",
       "(Intercept)                            -0.22333    0.07116  -3.139  0.00176 **\n",
       "treatmentTypeHuman-AI                   0.20333    0.12325   1.650  0.09941 . \n",
       "treatmentTypeHuman-Human, personalized  0.06333    0.12325   0.514  0.60750   \n",
       "treatmentTypeHuman-AI, personalized     0.36333    0.12325   2.948  0.00330 **\n",
       "---\n",
       "Signif. codes:  0 '***' 0.001 '**' 0.01 '*' 0.05 '.' 0.1 ' ' 1\n",
       "\n",
       "Residual standard error: 1.232 on 746 degrees of freedom\n",
       "Multiple R-squared:  0.0128,\tAdjusted R-squared:  0.008834 \n",
       "F-statistic: 3.225 on 3 and 746 DF,  p-value: 0.02209\n"
      ]
     },
     "metadata": {},
     "output_type": "display_data"
    }
   ],
   "source": [
    "model <- lm(formula = delta ~ treatmentType, data=mydf)\n",
    "write.csv(tidy(model), \"data/analysis_paper/model_linear.csv\", row.names = FALSE)\n",
    "cat(\"dof:\", model$df, \"\\n\")\n",
    "summary(model)"
   ]
  },
  {
   "cell_type": "markdown",
   "metadata": {},
   "source": [
    "### Demographics\n"
   ]
  },
  {
   "cell_type": "code",
   "execution_count": 18,
   "metadata": {
    "vscode": {
     "languageId": "r"
    }
   },
   "outputs": [
    {
     "name": "stdout",
     "output_type": "stream",
     "text": [
      "dof: 701 \n"
     ]
    },
    {
     "data": {
      "text/plain": [
       "formula: \n",
       "sideAgreementPostTreatment ~ treatmentType + gender + age + ethnicity + education + employmentStatus + politicalAffiliation\n",
       "nominal: ~sideAgreementPreTreatment\n",
       "data:    mydf\n",
       "\n",
       " link  threshold nobs logLik  AIC     niter max.grad cond.H \n",
       " logit flexible  749  -946.63 1989.26 8(0)  6.56e-08 3.3e+02\n",
       "\n",
       "Coefficients:\n",
       "                                       Estimate Std. Error z value Pr(>|z|)   \n",
       "treatmentTypeHuman-AI                   0.20545    0.19647   1.046  0.29570   \n",
       "treatmentTypeHuman-Human, personalized -0.21093    0.19914  -1.059  0.28951   \n",
       "treatmentTypeHuman-AI, personalized     0.55566    0.19059   2.916  0.00355 **\n",
       "genderfemale                            0.13192    0.14667   0.899  0.36840   \n",
       "genderother                             0.35222    0.43958   0.801  0.42298   \n",
       "age25-34                                0.15184    0.27466   0.553  0.58039   \n",
       "age35-44                               -0.03586    0.29363  -0.122  0.90280   \n",
       "age45-54                               -0.09752    0.30820  -0.316  0.75169   \n",
       "age55-64                               -0.06548    0.36319  -0.180  0.85692   \n",
       "age65+                                  0.23703    0.45882   0.517  0.60542   \n",
       "ethnicityblack                          0.38537    0.21482   1.794  0.07282 . \n",
       "ethnicityasian                          0.40700    0.22602   1.801  0.07174 . \n",
       "ethnicitylatino                        -0.25210    0.30521  -0.826  0.40881   \n",
       "ethnicitymixed                          0.14849    0.29175   0.509  0.61078   \n",
       "ethnicityother                         -0.14108    0.60681  -0.232  0.81615   \n",
       "educationno-degree                      0.34078    0.64267   0.530  0.59593   \n",
       "educationvocational                     0.02367    0.25734   0.092  0.92673   \n",
       "educationbachelor                      -0.11864    0.19128  -0.620  0.53512   \n",
       "educationmaster                        -0.08096    0.22487  -0.360  0.71884   \n",
       "educationphd                            0.07832    0.40002   0.196  0.84478   \n",
       "employmentStatusself-employed           0.01023    0.22259   0.046  0.96334   \n",
       "employmentStatusunemployed              0.07492    0.22628   0.331  0.74058   \n",
       "employmentStatusstudent                -0.22017    0.29347  -0.750  0.45310   \n",
       "employmentStatusretired                 0.45967    0.47255   0.973  0.33067   \n",
       "employmentStatusother                   0.85466    0.55937   1.528  0.12654   \n",
       "politicalAffiliationrepublican          0.36765    0.20397   1.802  0.07147 . \n",
       "politicalAffiliationindependent         0.17424    0.16700   1.043  0.29680   \n",
       "politicalAffiliationother               0.27823    0.30989   0.898  0.36927   \n",
       "---\n",
       "Signif. codes:  0 '***' 0.001 '**' 0.01 '*' 0.05 '.' 0.1 ' ' 1\n",
       "\n",
       "Threshold coefficients:\n",
       "                               Estimate Std. Error z value\n",
       "1|2.(Intercept)                 -1.4464     0.3536  -4.091\n",
       "2|3.(Intercept)                 -0.1550     0.3334  -0.465\n",
       "3|4.(Intercept)                  1.4013     0.3378   4.148\n",
       "4|5.(Intercept)                  2.6812     0.3541   7.572\n",
       "1|2.sideAgreementPreTreatment1  -1.9020     0.2601  -7.314\n",
       "2|3.sideAgreementPreTreatment1  -0.7224     0.2593  -2.786\n",
       "3|4.sideAgreementPreTreatment1   0.2435     0.3628   0.671\n",
       "4|5.sideAgreementPreTreatment1   0.3908     0.5231   0.747\n",
       "1|2.sideAgreementPreTreatment2  -0.8215     0.3201  -2.566\n",
       "2|3.sideAgreementPreTreatment2  -1.4354     0.2503  -5.734\n",
       "3|4.sideAgreementPreTreatment2  -0.6772     0.3413  -1.984\n",
       "4|5.sideAgreementPreTreatment2  -0.4434     0.5214  -0.850\n",
       "1|2.sideAgreementPreTreatment3  -1.8917     0.6383  -2.964\n",
       "2|3.sideAgreementPreTreatment3  -0.7077     0.2862  -2.472\n",
       "3|4.sideAgreementPreTreatment3  -1.7686     0.2773  -6.379\n",
       "4|5.sideAgreementPreTreatment3  -0.5535     0.4439  -1.247\n",
       "1|2.sideAgreementPreTreatment4   1.3605     0.6803   2.000\n",
       "2|3.sideAgreementPreTreatment4  -0.5177     0.3602  -1.437\n",
       "3|4.sideAgreementPreTreatment4  -0.6762     0.2581  -2.619\n",
       "4|5.sideAgreementPreTreatment4  -2.1267     0.3313  -6.419\n",
       "(1 observation deleted due to missingness)"
      ]
     },
     "metadata": {},
     "output_type": "display_data"
    }
   ],
   "source": [
    "# Demographics\n",
    "model <- ordinal::clm(formula = sideAgreementPostTreatment ~ treatmentType + gender + age + ethnicity + education + employmentStatus + politicalAffiliation, nominal= ~ sideAgreementPreTreatment, data=mydf, link=\"logit\")\n",
    "write.csv(tidy(model), \"data/analysis_paper/model_demographics.csv\", row.names = FALSE)\n",
    "cat(\"dof:\", model$df, \"\\n\")\n",
    "summary(model)"
   ]
  },
  {
   "cell_type": "markdown",
   "metadata": {},
   "source": [
    "### Mediation\n"
   ]
  },
  {
   "cell_type": "code",
   "execution_count": 19,
   "metadata": {
    "vscode": {
     "languageId": "r"
    }
   },
   "outputs": [
    {
     "name": "stdout",
     "output_type": "stream",
     "text": [
      "dof: 716 \n"
     ]
    },
    {
     "data": {
      "text/plain": [
       "formula: \n",
       "sideAgreementPostTreatment ~ treatmentType + overallOpponent_i + overallOpponent_we + overallOpponent_you + overallOpponent_emo_pos + overallOpponent_emo_neg + overallOpponent_Analytic + overallOpponent_Clout + overallOpponent_Authentic + overallOpponent_Tone + log(overallOpponent_WC) + overallOpponentFlesch\n",
       "nominal: ~sideAgreementPreTreatment\n",
       "data:    mydf\n",
       "\n",
       " link  threshold nobs logLik  AIC     niter max.grad cond.H \n",
       " logit flexible  750  -954.61 1977.22 8(0)  5.42e-12 4.1e+04\n",
       "\n",
       "Coefficients:\n",
       "                                        Estimate Std. Error z value Pr(>|z|)  \n",
       "treatmentTypeHuman-AI                  -0.039922   0.303860  -0.131    0.895  \n",
       "treatmentTypeHuman-Human, personalized -0.176725   0.198541  -0.890    0.373  \n",
       "treatmentTypeHuman-AI, personalized     0.403674   0.290995   1.387    0.165  \n",
       "overallOpponent_i                      -0.124274   0.070034  -1.774    0.076 .\n",
       "overallOpponent_we                      0.006493   0.057599   0.113    0.910  \n",
       "overallOpponent_you                     0.141150   0.111727   1.263    0.206  \n",
       "overallOpponent_emo_pos                 0.074937   0.161495   0.464    0.643  \n",
       "overallOpponent_emo_neg                -0.066251   0.084177  -0.787    0.431  \n",
       "overallOpponent_Analytic               -0.065066   0.401384  -0.162    0.871  \n",
       "overallOpponent_Clout                  -0.159350   0.414408  -0.385    0.701  \n",
       "overallOpponent_Authentic              -0.080414   0.312795  -0.257    0.797  \n",
       "overallOpponent_Tone                   -0.121271   0.268481  -0.452    0.651  \n",
       "log(overallOpponent_WC)                -0.252415   0.219730  -1.149    0.251  \n",
       "overallOpponentFlesch                  -0.233581   0.501683  -0.466    0.642  \n",
       "---\n",
       "Signif. codes:  0 '***' 0.001 '**' 0.01 '*' 0.05 '.' 0.1 ' ' 1\n",
       "\n",
       "Threshold coefficients:\n",
       "                               Estimate Std. Error z value\n",
       "1|2.(Intercept)                 -3.4385     1.2540  -2.742\n",
       "2|3.(Intercept)                 -2.1601     1.2454  -1.735\n",
       "3|4.(Intercept)                 -0.6219     1.2440  -0.500\n",
       "4|5.(Intercept)                  0.6451     1.2475   0.517\n",
       "1|2.sideAgreementPreTreatment1  -1.9205     0.2559  -7.506\n",
       "2|3.sideAgreementPreTreatment1  -0.7719     0.2530  -3.052\n",
       "3|4.sideAgreementPreTreatment1   0.1834     0.3573   0.513\n",
       "4|5.sideAgreementPreTreatment1   0.3302     0.5189   0.636\n",
       "1|2.sideAgreementPreTreatment2  -0.7285     0.3155  -2.309\n",
       "2|3.sideAgreementPreTreatment2  -1.3312     0.2428  -5.481\n",
       "3|4.sideAgreementPreTreatment2  -0.6127     0.3369  -1.818\n",
       "4|5.sideAgreementPreTreatment2  -0.3772     0.5184  -0.728\n",
       "1|2.sideAgreementPreTreatment3  -1.9517     0.6363  -3.067\n",
       "2|3.sideAgreementPreTreatment3  -0.7637     0.2821  -2.707\n",
       "3|4.sideAgreementPreTreatment3  -1.7952     0.2733  -6.569\n",
       "4|5.sideAgreementPreTreatment3  -0.5996     0.4403  -1.362\n",
       "1|2.sideAgreementPreTreatment4   1.3178     0.6796   1.939\n",
       "2|3.sideAgreementPreTreatment4  -0.5339     0.3588  -1.488\n",
       "3|4.sideAgreementPreTreatment4  -0.6483     0.2552  -2.540\n",
       "4|5.sideAgreementPreTreatment4  -2.0691     0.3277  -6.314"
      ]
     },
     "metadata": {},
     "output_type": "display_data"
    }
   ],
   "source": [
    "# LIWC\n",
    "model <- ordinal::clm(formula = sideAgreementPostTreatment ~ treatmentType + overallOpponent_i + overallOpponent_we + overallOpponent_you + overallOpponent_emo_pos + overallOpponent_emo_neg + overallOpponent_Analytic + overallOpponent_Clout + overallOpponent_Authentic + overallOpponent_Tone + log(overallOpponent_WC) + overallOpponentFlesch, nominal= ~ sideAgreementPreTreatment, data=mydf, link=\"logit\")\n",
    "write.csv(tidy(model), \"data/analysis_paper/model_liwc.csv\", row.names = FALSE)\n",
    "cat(\"dof:\", model$df, \"\\n\")\n",
    "summary(model)"
   ]
  },
  {
   "cell_type": "code",
   "execution_count": 20,
   "metadata": {
    "vscode": {
     "languageId": "r"
    }
   },
   "outputs": [
    {
     "name": "stdout",
     "output_type": "stream",
     "text": [
      "dof: 718 \n"
     ]
    },
    {
     "data": {
      "text/plain": [
       "formula: \n",
       "sideAgreementPostTreatment ~ treatmentType + argumentOpponent_knowledge_mean + argumentOpponent_similarity_mean + argumentOpponent_trust_mean + argumentOpponent_power_mean + argumentOpponent_support_mean + argumentOpponent_identity_mean + argumentOpponent_conflict_mean + argumentOpponent_status_mean + argumentOpponent_fun_mean\n",
       "nominal: ~sideAgreementPreTreatment\n",
       "data:    mydf\n",
       "\n",
       " link  threshold nobs logLik  AIC     niter max.grad cond.H \n",
       " logit flexible  750  -952.30 1968.60 8(0)  4.10e-09 3.0e+03\n",
       "\n",
       "Coefficients:\n",
       "                                       Estimate Std. Error z value Pr(>|z|)    \n",
       "treatmentTypeHuman-AI                   0.41950    0.24987   1.679 0.093187 .  \n",
       "treatmentTypeHuman-Human, personalized -0.16760    0.19462  -0.861 0.389133    \n",
       "treatmentTypeHuman-AI, personalized     0.80750    0.24282   3.326 0.000883 ***\n",
       "argumentOpponent_knowledge_mean        -1.08148    0.89522  -1.208 0.227021    \n",
       "argumentOpponent_similarity_mean        0.59888    0.43753   1.369 0.171071    \n",
       "argumentOpponent_trust_mean             0.21115    0.35294   0.598 0.549669    \n",
       "argumentOpponent_power_mean            -0.24876    0.26346  -0.944 0.345047    \n",
       "argumentOpponent_support_mean          -0.49550    0.54294  -0.913 0.361436    \n",
       "argumentOpponent_identity_mean          0.65731    1.23669   0.532 0.595071    \n",
       "argumentOpponent_conflict_mean          0.08654    0.36975   0.234 0.814939    \n",
       "argumentOpponent_status_mean           -0.36270    1.02205  -0.355 0.722685    \n",
       "argumentOpponent_fun_mean              -0.34807    1.24284  -0.280 0.779431    \n",
       "---\n",
       "Signif. codes:  0 '***' 0.001 '**' 0.01 '*' 0.05 '.' 0.1 ' ' 1\n",
       "\n",
       "Threshold coefficients:\n",
       "                               Estimate Std. Error z value\n",
       "1|2.(Intercept)                 -2.3238     1.1682  -1.989\n",
       "2|3.(Intercept)                 -1.0465     1.1619  -0.901\n",
       "3|4.(Intercept)                  0.5024     1.1614   0.433\n",
       "4|5.(Intercept)                  1.7801     1.1647   1.528\n",
       "1|2.sideAgreementPreTreatment1  -1.9259     0.2565  -7.507\n",
       "2|3.sideAgreementPreTreatment1  -0.7789     0.2538  -3.069\n",
       "3|4.sideAgreementPreTreatment1   0.1829     0.3580   0.511\n",
       "4|5.sideAgreementPreTreatment1   0.3233     0.5195   0.622\n",
       "1|2.sideAgreementPreTreatment2  -0.7479     0.3160  -2.367\n",
       "2|3.sideAgreementPreTreatment2  -1.3521     0.2435  -5.553\n",
       "3|4.sideAgreementPreTreatment2  -0.6257     0.3373  -1.855\n",
       "4|5.sideAgreementPreTreatment2  -0.3909     0.5188  -0.753\n",
       "1|2.sideAgreementPreTreatment3  -1.9514     0.6370  -3.063\n",
       "2|3.sideAgreementPreTreatment3  -0.7612     0.2844  -2.677\n",
       "3|4.sideAgreementPreTreatment3  -1.7864     0.2755  -6.483\n",
       "4|5.sideAgreementPreTreatment3  -0.5663     0.4417  -1.282\n",
       "1|2.sideAgreementPreTreatment4   1.3703     0.6797   2.016\n",
       "2|3.sideAgreementPreTreatment4  -0.4887     0.3598  -1.358\n",
       "3|4.sideAgreementPreTreatment4  -0.6418     0.2579  -2.488\n",
       "4|5.sideAgreementPreTreatment4  -2.0834     0.3301  -6.311"
      ]
     },
     "metadata": {},
     "output_type": "display_data"
    }
   ],
   "source": [
    "# Social dimensions\n",
    "model <- ordinal::clm(formula = sideAgreementPostTreatment ~ treatmentType + argumentOpponent_knowledge_mean + argumentOpponent_similarity_mean + argumentOpponent_trust_mean + argumentOpponent_power_mean + argumentOpponent_support_mean + argumentOpponent_identity_mean + argumentOpponent_conflict_mean + argumentOpponent_status_mean + argumentOpponent_fun_mean, nominal= ~ sideAgreementPreTreatment, data=mydf, link=\"logit\")\n",
    "write.csv(tidy(model), \"data/analysis_paper/model_dimensions.csv\", row.names = FALSE)\n",
    "cat(\"dof:\", model$df, \"\\n\")\n",
    "summary(model)"
   ]
  },
  {
   "cell_type": "code",
   "execution_count": 21,
   "metadata": {
    "vscode": {
     "languageId": "r"
    }
   },
   "outputs": [
    {
     "data": {
      "text/html": [
       "<strong>treatmentTypeHuman-AI:</strong> 1.20062018411575"
      ],
      "text/latex": [
       "\\textbf{treatmentTypeHuman-AI:} 1.20062018411575"
      ],
      "text/markdown": [
       "**treatmentTypeHuman-AI:** 1.20062018411575"
      ],
      "text/plain": [
       "treatmentTypeHuman-AI \n",
       "              1.20062 "
      ]
     },
     "metadata": {},
     "output_type": "display_data"
    },
    {
     "data": {
      "text/html": [
       "<strong>treatmentTypeHuman-Human, personalized:</strong> -0.00105919702076562"
      ],
      "text/latex": [
       "\\textbf{treatmentTypeHuman-Human, personalized:} -0.00105919702076562"
      ],
      "text/markdown": [
       "**treatmentTypeHuman-Human, personalized:** -0.00105919702076562"
      ],
      "text/plain": [
       "treatmentTypeHuman-Human, personalized \n",
       "                          -0.001059197 "
      ]
     },
     "metadata": {},
     "output_type": "display_data"
    },
    {
     "data": {
      "text/html": [
       "<strong>treatmentTypeHuman-AI, personalized:</strong> 0.328258318644978"
      ],
      "text/latex": [
       "\\textbf{treatmentTypeHuman-AI, personalized:} 0.328258318644978"
      ],
      "text/markdown": [
       "**treatmentTypeHuman-AI, personalized:** 0.328258318644978"
      ],
      "text/plain": [
       "treatmentTypeHuman-AI, personalized \n",
       "                          0.3282583 "
      ]
     },
     "metadata": {},
     "output_type": "display_data"
    }
   ],
   "source": [
    "# LIWC, with KHB\n",
    "\n",
    "model_overallOpponent_i = lm(formula = overallOpponent_i ~ treatmentType, data=mydf)\n",
    "model_overallOpponent_we = lm(formula = overallOpponent_we ~ treatmentType, data=mydf)\n",
    "model_overallOpponent_you = lm(formula = overallOpponent_you ~ treatmentType, data=mydf)\n",
    "model_overallOpponent_emo_pos = lm(formula = overallOpponent_emo_pos ~ treatmentType, data=mydf)\n",
    "model_overallOpponent_emo_neg = lm(formula = overallOpponent_emo_neg ~ treatmentType, data=mydf)\n",
    "model_overallOpponent_Analytic = lm(formula = overallOpponent_Analytic ~ treatmentType, data=mydf)\n",
    "model_overallOpponent_Clout = lm(formula = overallOpponent_Clout ~ treatmentType, data=mydf)\n",
    "model_overallOpponent_Authentic = lm(formula = overallOpponent_Authentic ~ treatmentType, data=mydf)\n",
    "model_overallOpponent_Tone = lm(formula = overallOpponent_Tone ~ treatmentType, data=mydf)\n",
    "model_overallOpponent_WC = lm(formula = log(overallOpponent_WC) ~ treatmentType, data=mydf)\n",
    "model_overallOpponentFlesch = lm(formula = overallOpponentFlesch ~ treatmentType, data=mydf)\n",
    "\n",
    "# Compute residuals\n",
    "newdf <- mydf\n",
    "newdf$overallOpponent_i_residuals = residuals(model_overallOpponent_i)\n",
    "newdf$overallOpponent_we_residuals = residuals(model_overallOpponent_we)\n",
    "newdf$overallOpponent_you_residuals = residuals(model_overallOpponent_you)\n",
    "newdf$overallOpponent_emo_pos_residuals = residuals(model_overallOpponent_emo_pos)  \n",
    "newdf$overallOpponent_emo_neg_residuals = residuals(model_overallOpponent_emo_neg)\n",
    "newdf$overallOpponent_Analytic_residuals = residuals(model_overallOpponent_Analytic)\n",
    "newdf$overallOpponent_Clout_residuals = residuals(model_overallOpponent_Clout)\n",
    "newdf$overallOpponent_Authentic_residuals = residuals(model_overallOpponent_Authentic)\n",
    "newdf$overallOpponent_Tone_residuals = residuals(model_overallOpponent_Tone)\n",
    "newdf$overallOpponent_WC_residuals = residuals(model_overallOpponent_WC)\n",
    "newdf$overallOpponentFlesch_residuals = residuals(model_overallOpponentFlesch)\n",
    "\n",
    "model_full <- ordinal::clm(formula = sideAgreementPostTreatment ~ treatmentType + overallOpponent_i + overallOpponent_we + overallOpponent_you + overallOpponent_emo_pos + overallOpponent_emo_neg + overallOpponent_Analytic + overallOpponent_Clout + overallOpponent_Authentic + overallOpponent_Tone + log(overallOpponent_WC) + overallOpponentFlesch, nominal= ~ sideAgreementPreTreatment, data=mydf, link=\"logit\")\n",
    "model_residual <- ordinal::clm(formula = sideAgreementPostTreatment ~ treatmentType + overallOpponent_i_residuals + overallOpponent_we_residuals + overallOpponent_you_residuals + overallOpponent_emo_pos_residuals + overallOpponent_emo_neg_residuals + overallOpponent_Analytic_residuals + overallOpponent_Clout_residuals + overallOpponent_Authentic_residuals + overallOpponent_Tone_residuals + overallOpponent_WC_residuals + overallOpponentFlesch_residuals, nominal= ~ sideAgreementPreTreatment, data=newdf, link=\"logit\")\n",
    "\n",
    "# Percentage change attributable to mediation\n",
    "1 - model_full$coefficients[\"treatmentTypeHuman-AI\"] / model_residual$coefficients[\"treatmentTypeHuman-AI\"]\n",
    "1 - model_full$coefficients[\"treatmentTypeHuman-Human, personalized\"] / model_residual$coefficients[\"treatmentTypeHuman-Human, personalized\"]\n",
    "1 - model_full$coefficients[\"treatmentTypeHuman-AI, personalized\"] / model_residual$coefficients[\"treatmentTypeHuman-AI, personalized\"]"
   ]
  },
  {
   "cell_type": "code",
   "execution_count": 22,
   "metadata": {
    "vscode": {
     "languageId": "r"
    }
   },
   "outputs": [
    {
     "name": "stderr",
     "output_type": "stream",
     "text": [
      "Warning message:\n",
      "\"(1) Hessian is numerically singular: parameters are not uniquely determined \n",
      "In addition: Absolute convergence criterion was met, but relative criterion was not met\"\n",
      "Warning message:\n",
      "\"(1) Hessian is numerically singular: parameters are not uniquely determined \n",
      "In addition: Absolute convergence criterion was met, but relative criterion was not met\"\n",
      "Warning message:\n",
      "\"(1) Hessian is numerically singular: parameters are not uniquely determined \n",
      "In addition: Absolute convergence criterion was met, but relative criterion was not met\"\n",
      "Warning message:\n",
      "\"(1) Hessian is numerically singular: parameters are not uniquely determined \n",
      "In addition: Absolute convergence criterion was met, but relative criterion was not met\"\n",
      "Warning message:\n",
      "\"(-3) not all thresholds are increasing: fit is invalid \n",
      "In addition: Absolute convergence criterion was met, but relative criterion was not met\"\n",
      "Warning message:\n",
      "\"(-3) not all thresholds are increasing: fit is invalid \n",
      "In addition: Absolute convergence criterion was met, but relative criterion was not met\"\n",
      "Warning message:\n",
      "\"(1) Hessian is numerically singular: parameters are not uniquely determined \n",
      "In addition: Absolute convergence criterion was met, but relative criterion was not met\"\n",
      "Warning message:\n",
      "\"(1) Hessian is numerically singular: parameters are not uniquely determined \n",
      "In addition: Absolute convergence criterion was met, but relative criterion was not met\"\n",
      "Warning message:\n",
      "\"(1) Hessian is numerically singular: parameters are not uniquely determined \n",
      "In addition: Absolute convergence criterion was met, but relative criterion was not met\"\n",
      "Warning message:\n",
      "\"(1) Hessian is numerically singular: parameters are not uniquely determined \n",
      "In addition: Absolute convergence criterion was met, but relative criterion was not met\"\n",
      "Warning message:\n",
      "\"(1) Hessian is numerically singular: parameters are not uniquely determined \n",
      "In addition: Absolute convergence criterion was met, but relative criterion was not met\"\n",
      "Warning message:\n",
      "\"(1) Hessian is numerically singular: parameters are not uniquely determined \n",
      "In addition: Absolute convergence criterion was met, but relative criterion was not met\"\n",
      "Warning message:\n",
      "\"(1) Hessian is numerically singular: parameters are not uniquely determined \n",
      "In addition: Absolute convergence criterion was met, but relative criterion was not met\"\n",
      "Warning message:\n",
      "\"(1) Hessian is numerically singular: parameters are not uniquely determined \n",
      "In addition: Absolute convergence criterion was met, but relative criterion was not met\"\n",
      "Warning message:\n",
      "\"(1) Hessian is numerically singular: parameters are not uniquely determined \n",
      "In addition: Absolute convergence criterion was met, but relative criterion was not met\"\n",
      "Warning message:\n",
      "\"(1) Hessian is numerically singular: parameters are not uniquely determined \n",
      "In addition: Absolute convergence criterion was met, but relative criterion was not met\"\n",
      "Warning message:\n",
      "\"(1) Hessian is numerically singular: parameters are not uniquely determined \n",
      "In addition: Absolute convergence criterion was met, but relative criterion was not met\"\n",
      "Warning message:\n",
      "\"(1) Hessian is numerically singular: parameters are not uniquely determined \n",
      "In addition: Absolute convergence criterion was met, but relative criterion was not met\"\n",
      "Warning message:\n",
      "\"(1) Hessian is numerically singular: parameters are not uniquely determined \n",
      "In addition: Absolute convergence criterion was met, but relative criterion was not met\"\n",
      "Warning message:\n",
      "\"(1) Hessian is numerically singular: parameters are not uniquely determined \n",
      "In addition: Absolute convergence criterion was met, but relative criterion was not met\"\n",
      "Warning message:\n",
      "\"(1) Hessian is numerically singular: parameters are not uniquely determined \n",
      "In addition: Absolute convergence criterion was met, but relative criterion was not met\"\n",
      "Warning message:\n",
      "\"(1) Hessian is numerically singular: parameters are not uniquely determined \n",
      "In addition: Absolute convergence criterion was met, but relative criterion was not met\"\n",
      "Warning message:\n",
      "\"(1) Hessian is numerically singular: parameters are not uniquely determined \n",
      "In addition: Absolute convergence criterion was met, but relative criterion was not met\"\n",
      "Warning message:\n",
      "\"(1) Hessian is numerically singular: parameters are not uniquely determined \n",
      "In addition: Absolute convergence criterion was met, but relative criterion was not met\"\n",
      "Warning message:\n",
      "\"(1) Hessian is numerically singular: parameters are not uniquely determined \n",
      "In addition: Absolute convergence criterion was met, but relative criterion was not met\"\n",
      "Warning message:\n",
      "\"(1) Hessian is numerically singular: parameters are not uniquely determined \n",
      "In addition: Absolute convergence criterion was met, but relative criterion was not met\"\n",
      "Warning message:\n",
      "\"(1) Hessian is numerically singular: parameters are not uniquely determined \n",
      "In addition: Absolute convergence criterion was met, but relative criterion was not met\"\n",
      "Warning message:\n",
      "\"(1) Hessian is numerically singular: parameters are not uniquely determined \n",
      "In addition: Absolute convergence criterion was met, but relative criterion was not met\"\n",
      "Warning message:\n",
      "\"(1) Hessian is numerically singular: parameters are not uniquely determined \n",
      "In addition: Absolute convergence criterion was met, but relative criterion was not met\"\n",
      "Warning message:\n",
      "\"(1) Hessian is numerically singular: parameters are not uniquely determined \n",
      "In addition: Absolute convergence criterion was met, but relative criterion was not met\"\n",
      "Warning message:\n",
      "\"(1) Hessian is numerically singular: parameters are not uniquely determined \n",
      "In addition: Absolute convergence criterion was met, but relative criterion was not met\"\n",
      "Warning message:\n",
      "\"(1) Hessian is numerically singular: parameters are not uniquely determined \n",
      "In addition: Absolute convergence criterion was met, but relative criterion was not met\"\n",
      "Warning message:\n",
      "\"(1) Hessian is numerically singular: parameters are not uniquely determined \n",
      "In addition: Absolute convergence criterion was met, but relative criterion was not met\"\n",
      "Warning message:\n",
      "\"(1) Hessian is numerically singular: parameters are not uniquely determined \n",
      "In addition: Absolute convergence criterion was met, but relative criterion was not met\"\n",
      "Warning message:\n",
      "\"(1) Hessian is numerically singular: parameters are not uniquely determined \n",
      "In addition: Absolute convergence criterion was met, but relative criterion was not met\"\n",
      "Warning message:\n",
      "\"(1) Hessian is numerically singular: parameters are not uniquely determined \n",
      "In addition: Absolute convergence criterion was met, but relative criterion was not met\"\n",
      "Warning message:\n",
      "\"(1) Hessian is numerically singular: parameters are not uniquely determined \n",
      "In addition: Absolute convergence criterion was met, but relative criterion was not met\"\n",
      "Warning message:\n",
      "\"(1) Hessian is numerically singular: parameters are not uniquely determined \n",
      "In addition: Absolute convergence criterion was met, but relative criterion was not met\"\n",
      "Warning message:\n",
      "\"(-3) not all thresholds are increasing: fit is invalid \n",
      "In addition: Absolute convergence criterion was met, but relative criterion was not met\"\n",
      "Warning message:\n",
      "\"(-3) not all thresholds are increasing: fit is invalid \n",
      "In addition: Absolute convergence criterion was met, but relative criterion was not met\"\n",
      "Warning message:\n",
      "\"(1) Hessian is numerically singular: parameters are not uniquely determined \n",
      "In addition: Absolute convergence criterion was met, but relative criterion was not met\"\n",
      "Warning message:\n",
      "\"(1) Hessian is numerically singular: parameters are not uniquely determined \n",
      "In addition: Absolute convergence criterion was met, but relative criterion was not met\"\n",
      "Warning message:\n",
      "\"(1) Hessian is numerically singular: parameters are not uniquely determined \n",
      "In addition: Absolute convergence criterion was met, but relative criterion was not met\"\n",
      "Warning message:\n",
      "\"(1) Hessian is numerically singular: parameters are not uniquely determined \n",
      "In addition: Absolute convergence criterion was met, but relative criterion was not met\"\n",
      "Warning message:\n",
      "\"(1) Hessian is numerically singular: parameters are not uniquely determined \n",
      "In addition: Absolute convergence criterion was met, but relative criterion was not met\"\n",
      "Warning message:\n",
      "\"(1) Hessian is numerically singular: parameters are not uniquely determined \n",
      "In addition: Absolute convergence criterion was met, but relative criterion was not met\"\n",
      "Warning message:\n",
      "\"(1) Hessian is numerically singular: parameters are not uniquely determined \n",
      "In addition: Absolute convergence criterion was met, but relative criterion was not met\"\n",
      "Warning message:\n",
      "\"(1) Hessian is numerically singular: parameters are not uniquely determined \n",
      "In addition: Absolute convergence criterion was met, but relative criterion was not met\"\n",
      "Warning message:\n",
      "\"(1) Hessian is numerically singular: parameters are not uniquely determined \n",
      "In addition: Absolute convergence criterion was met, but relative criterion was not met\"\n",
      "Warning message:\n",
      "\"(1) Hessian is numerically singular: parameters are not uniquely determined \n",
      "In addition: Absolute convergence criterion was met, but relative criterion was not met\"\n",
      "Warning message:\n",
      "\"(1) Hessian is numerically singular: parameters are not uniquely determined \n",
      "In addition: Absolute convergence criterion was met, but relative criterion was not met\"\n",
      "Warning message:\n",
      "\"(1) Hessian is numerically singular: parameters are not uniquely determined \n",
      "In addition: Absolute convergence criterion was met, but relative criterion was not met\"\n",
      "Warning message:\n",
      "\"(1) Hessian is numerically singular: parameters are not uniquely determined \n",
      "In addition: Absolute convergence criterion was met, but relative criterion was not met\"\n",
      "Warning message:\n",
      "\"(1) Hessian is numerically singular: parameters are not uniquely determined \n",
      "In addition: Absolute convergence criterion was met, but relative criterion was not met\"\n",
      "Warning message:\n",
      "\"(1) Hessian is numerically singular: parameters are not uniquely determined \n",
      "In addition: Absolute convergence criterion was met, but relative criterion was not met\"\n",
      "Warning message:\n",
      "\"(1) Hessian is numerically singular: parameters are not uniquely determined \n",
      "In addition: Absolute convergence criterion was met, but relative criterion was not met\"\n",
      "Warning message:\n",
      "\"(1) Hessian is numerically singular: parameters are not uniquely determined \n",
      "In addition: Absolute convergence criterion was met, but relative criterion was not met\"\n",
      "Warning message:\n",
      "\"(1) Hessian is numerically singular: parameters are not uniquely determined \n",
      "In addition: Absolute convergence criterion was met, but relative criterion was not met\"\n",
      "Warning message:\n",
      "\"(1) Hessian is numerically singular: parameters are not uniquely determined \n",
      "In addition: Absolute convergence criterion was met, but relative criterion was not met\"\n",
      "Warning message:\n",
      "\"(1) Hessian is numerically singular: parameters are not uniquely determined \n",
      "In addition: Absolute convergence criterion was met, but relative criterion was not met\"\n",
      "Warning message:\n",
      "\"(1) Hessian is numerically singular: parameters are not uniquely determined \n",
      "In addition: Absolute convergence criterion was met, but relative criterion was not met\"\n",
      "Warning message:\n",
      "\"(1) Hessian is numerically singular: parameters are not uniquely determined \n",
      "In addition: Absolute convergence criterion was met, but relative criterion was not met\"\n",
      "Warning message:\n",
      "\"(1) Hessian is numerically singular: parameters are not uniquely determined \n",
      "In addition: Absolute convergence criterion was met, but relative criterion was not met\"\n",
      "Warning message:\n",
      "\"(1) Hessian is numerically singular: parameters are not uniquely determined \n",
      "In addition: Absolute convergence criterion was met, but relative criterion was not met\"\n",
      "Warning message:\n",
      "\"(1) Hessian is numerically singular: parameters are not uniquely determined \n",
      "In addition: Absolute convergence criterion was met, but relative criterion was not met\"\n",
      "Warning message:\n",
      "\"(1) Hessian is numerically singular: parameters are not uniquely determined \n",
      "In addition: Absolute convergence criterion was met, but relative criterion was not met\"\n",
      "Warning message:\n",
      "\"(1) Hessian is numerically singular: parameters are not uniquely determined \n",
      "In addition: Absolute convergence criterion was met, but relative criterion was not met\"\n",
      "Warning message:\n",
      "\"(1) Hessian is numerically singular: parameters are not uniquely determined \n",
      "In addition: Absolute convergence criterion was met, but relative criterion was not met\"\n",
      "Warning message:\n",
      "\"(-3) not all thresholds are increasing: fit is invalid \n",
      "In addition: Absolute convergence criterion was met, but relative criterion was not met\"\n",
      "Warning message:\n",
      "\"(-3) not all thresholds are increasing: fit is invalid \n",
      "In addition: Absolute convergence criterion was met, but relative criterion was not met\"\n",
      "Warning message:\n",
      "\"(1) Hessian is numerically singular: parameters are not uniquely determined \n",
      "In addition: Absolute convergence criterion was met, but relative criterion was not met\"\n",
      "Warning message:\n",
      "\"(1) Hessian is numerically singular: parameters are not uniquely determined \n",
      "In addition: Absolute convergence criterion was met, but relative criterion was not met\"\n",
      "Warning message:\n",
      "\"(1) Hessian is numerically singular: parameters are not uniquely determined \n",
      "In addition: Absolute convergence criterion was met, but relative criterion was not met\"\n",
      "Warning message:\n",
      "\"(1) Hessian is numerically singular: parameters are not uniquely determined \n",
      "In addition: Absolute convergence criterion was met, but relative criterion was not met\"\n",
      "Warning message:\n",
      "\"(1) Hessian is numerically singular: parameters are not uniquely determined \n",
      "In addition: Absolute convergence criterion was met, but relative criterion was not met\"\n",
      "Warning message:\n",
      "\"(1) Hessian is numerically singular: parameters are not uniquely determined \n",
      "In addition: Absolute convergence criterion was met, but relative criterion was not met\"\n",
      "Warning message:\n",
      "\"(1) Hessian is numerically singular: parameters are not uniquely determined \n",
      "In addition: Absolute convergence criterion was met, but relative criterion was not met\"\n",
      "Warning message:\n",
      "\"(1) Hessian is numerically singular: parameters are not uniquely determined \n",
      "In addition: Absolute convergence criterion was met, but relative criterion was not met\"\n",
      "Warning message:\n",
      "\"(1) Hessian is numerically singular: parameters are not uniquely determined \n",
      "In addition: Absolute convergence criterion was met, but relative criterion was not met\"\n",
      "Warning message:\n",
      "\"(1) Hessian is numerically singular: parameters are not uniquely determined \n",
      "In addition: Absolute convergence criterion was met, but relative criterion was not met\"\n",
      "Warning message:\n",
      "\"(1) Hessian is numerically singular: parameters are not uniquely determined \n",
      "In addition: Absolute convergence criterion was met, but relative criterion was not met\"\n",
      "Warning message:\n",
      "\"(1) Hessian is numerically singular: parameters are not uniquely determined \n",
      "In addition: Absolute convergence criterion was met, but relative criterion was not met\"\n",
      "Warning message:\n",
      "\"(1) Hessian is numerically singular: parameters are not uniquely determined \n",
      "In addition: Absolute convergence criterion was met, but relative criterion was not met\"\n",
      "Warning message:\n",
      "\"(1) Hessian is numerically singular: parameters are not uniquely determined \n",
      "In addition: Absolute convergence criterion was met, but relative criterion was not met\"\n",
      "Warning message:\n",
      "\"(1) Hessian is numerically singular: parameters are not uniquely determined \n",
      "In addition: Absolute convergence criterion was met, but relative criterion was not met\"\n",
      "Warning message:\n",
      "\"(1) Hessian is numerically singular: parameters are not uniquely determined \n",
      "In addition: Absolute convergence criterion was met, but relative criterion was not met\"\n",
      "Warning message:\n",
      "\"(1) Hessian is numerically singular: parameters are not uniquely determined \n",
      "In addition: Absolute convergence criterion was met, but relative criterion was not met\"\n",
      "Warning message:\n",
      "\"(1) Hessian is numerically singular: parameters are not uniquely determined \n",
      "In addition: Absolute convergence criterion was met, but relative criterion was not met\"\n",
      "Warning message:\n",
      "\"(1) Hessian is numerically singular: parameters are not uniquely determined \n",
      "In addition: Absolute convergence criterion was met, but relative criterion was not met\"\n",
      "Warning message:\n",
      "\"(1) Hessian is numerically singular: parameters are not uniquely determined \n",
      "In addition: Absolute convergence criterion was met, but relative criterion was not met\"\n",
      "Warning message:\n",
      "\"(1) Hessian is numerically singular: parameters are not uniquely determined \n",
      "In addition: Absolute convergence criterion was met, but relative criterion was not met\"\n",
      "Warning message:\n",
      "\"(1) Hessian is numerically singular: parameters are not uniquely determined \n",
      "In addition: Absolute convergence criterion was met, but relative criterion was not met\"\n",
      "Warning message:\n",
      "\"(1) Hessian is numerically singular: parameters are not uniquely determined \n",
      "In addition: Absolute convergence criterion was met, but relative criterion was not met\"\n",
      "Warning message:\n",
      "\"(1) Hessian is numerically singular: parameters are not uniquely determined \n",
      "In addition: Absolute convergence criterion was met, but relative criterion was not met\"\n",
      "Warning message:\n",
      "\"(1) Hessian is numerically singular: parameters are not uniquely determined \n",
      "In addition: Absolute convergence criterion was met, but relative criterion was not met\"\n",
      "Warning message:\n",
      "\"(1) Hessian is numerically singular: parameters are not uniquely determined \n",
      "In addition: Absolute convergence criterion was met, but relative criterion was not met\"\n",
      "Warning message:\n",
      "\"(1) Hessian is numerically singular: parameters are not uniquely determined \n",
      "In addition: Absolute convergence criterion was met, but relative criterion was not met\"\n",
      "Warning message:\n",
      "\"(1) Hessian is numerically singular: parameters are not uniquely determined \n",
      "In addition: Absolute convergence criterion was met, but relative criterion was not met\"\n",
      "Warning message:\n",
      "\"(1) Hessian is numerically singular: parameters are not uniquely determined \n",
      "In addition: Absolute convergence criterion was met, but relative criterion was not met\"\n",
      "Warning message:\n",
      "\"(1) Hessian is numerically singular: parameters are not uniquely determined \n",
      "In addition: Absolute convergence criterion was met, but relative criterion was not met\"\n",
      "Warning message:\n",
      "\"(1) Hessian is numerically singular: parameters are not uniquely determined \n",
      "In addition: Absolute convergence criterion was met, but relative criterion was not met\"\n",
      "Warning message:\n",
      "\"(1) Hessian is numerically singular: parameters are not uniquely determined \n",
      "In addition: Absolute convergence criterion was met, but relative criterion was not met\"\n",
      "Warning message:\n",
      "\"(1) Hessian is numerically singular: parameters are not uniquely determined \n",
      "In addition: Absolute convergence criterion was met, but relative criterion was not met\"\n",
      "Warning message:\n",
      "\"(1) Hessian is numerically singular: parameters are not uniquely determined \n",
      "In addition: Absolute convergence criterion was met, but relative criterion was not met\"\n",
      "Warning message:\n",
      "\"(1) Hessian is numerically singular: parameters are not uniquely determined \n",
      "In addition: Absolute convergence criterion was met, but relative criterion was not met\"\n",
      "Warning message:\n",
      "\"(1) Hessian is numerically singular: parameters are not uniquely determined \n",
      "In addition: Absolute convergence criterion was met, but relative criterion was not met\"\n",
      "Warning message:\n",
      "\"(1) Hessian is numerically singular: parameters are not uniquely determined \n",
      "In addition: Absolute convergence criterion was met, but relative criterion was not met\"\n",
      "Warning message:\n",
      "\"(1) Hessian is numerically singular: parameters are not uniquely determined \n",
      "In addition: Absolute convergence criterion was met, but relative criterion was not met\"\n",
      "Warning message:\n",
      "\"(1) Hessian is numerically singular: parameters are not uniquely determined \n",
      "In addition: Absolute convergence criterion was met, but relative criterion was not met\"\n",
      "Warning message:\n",
      "\"(1) Hessian is numerically singular: parameters are not uniquely determined \n",
      "In addition: Absolute convergence criterion was met, but relative criterion was not met\"\n",
      "Warning message:\n",
      "\"(-3) not all thresholds are increasing: fit is invalid \n",
      "In addition: Absolute convergence criterion was met, but relative criterion was not met\"\n",
      "Warning message:\n",
      "\"(-3) not all thresholds are increasing: fit is invalid \n",
      "In addition: Absolute convergence criterion was met, but relative criterion was not met\"\n",
      "Warning message:\n",
      "\"(1) Hessian is numerically singular: parameters are not uniquely determined \n",
      "In addition: Absolute convergence criterion was met, but relative criterion was not met\"\n",
      "Warning message:\n",
      "\"(1) Hessian is numerically singular: parameters are not uniquely determined \n",
      "In addition: Absolute convergence criterion was met, but relative criterion was not met\"\n",
      "Warning message:\n",
      "\"(1) Hessian is numerically singular: parameters are not uniquely determined \n",
      "In addition: Absolute convergence criterion was met, but relative criterion was not met\"\n",
      "Warning message:\n",
      "\"(1) Hessian is numerically singular: parameters are not uniquely determined \n",
      "In addition: Absolute convergence criterion was met, but relative criterion was not met\"\n",
      "Warning message:\n",
      "\"(1) Hessian is numerically singular: parameters are not uniquely determined \n",
      "In addition: Absolute convergence criterion was met, but relative criterion was not met\"\n",
      "Warning message:\n",
      "\"(1) Hessian is numerically singular: parameters are not uniquely determined \n",
      "In addition: Absolute convergence criterion was met, but relative criterion was not met\"\n",
      "Warning message:\n",
      "\"(1) Hessian is numerically singular: parameters are not uniquely determined \n",
      "In addition: Absolute convergence criterion was met, but relative criterion was not met\"\n",
      "Warning message:\n",
      "\"(1) Hessian is numerically singular: parameters are not uniquely determined \n",
      "In addition: Absolute convergence criterion was met, but relative criterion was not met\"\n"
     ]
    }
   ],
   "source": [
    "# Bootstrap confidence intervals\n",
    "\n",
    "ba <- function(data, indices)\n",
    "{\n",
    "    bdf = data[indices, ]\n",
    "    \n",
    "    model_overallOpponent_i = lm(formula = overallOpponent_i ~ treatmentType, data=bdf)\n",
    "    model_overallOpponent_we = lm(formula = overallOpponent_we ~ treatmentType, data=bdf)\n",
    "    model_overallOpponent_you = lm(formula = overallOpponent_you ~ treatmentType, data=bdf)\n",
    "    model_overallOpponent_emo_pos = lm(formula = overallOpponent_emo_pos ~ treatmentType, data=bdf)\n",
    "    model_overallOpponent_emo_neg = lm(formula = overallOpponent_emo_neg ~ treatmentType, data=bdf)\n",
    "    model_overallOpponent_Analytic = lm(formula = overallOpponent_Analytic ~ treatmentType, data=bdf)\n",
    "    model_overallOpponent_Clout = lm(formula = overallOpponent_Clout ~ treatmentType, data=bdf)\n",
    "    model_overallOpponent_Authentic = lm(formula = overallOpponent_Authentic ~ treatmentType, data=bdf)\n",
    "    model_overallOpponent_Tone = lm(formula = overallOpponent_Tone ~ treatmentType, data=bdf)\n",
    "    model_overallOpponent_WC = lm(formula = log(overallOpponent_WC) ~ treatmentType, data=bdf)\n",
    "    model_overallOpponentFlesch = lm(formula = overallOpponentFlesch ~ treatmentType, data=bdf)\n",
    "\n",
    "    # Compute residuals\n",
    "    newdf <- bdf\n",
    "    newdf$overallOpponent_i_residuals = residuals(model_overallOpponent_i)\n",
    "    newdf$overallOpponent_we_residuals = residuals(model_overallOpponent_we)\n",
    "    newdf$overallOpponent_you_residuals = residuals(model_overallOpponent_you)\n",
    "    newdf$overallOpponent_emo_pos_residuals = residuals(model_overallOpponent_emo_pos)\n",
    "    newdf$overallOpponent_emo_neg_residuals = residuals(model_overallOpponent_emo_neg)\n",
    "    newdf$overallOpponent_Analytic_residuals = residuals(model_overallOpponent_Analytic)\n",
    "    newdf$overallOpponent_Clout_residuals = residuals(model_overallOpponent_Clout)\n",
    "    newdf$overallOpponent_Authentic_residuals = residuals(model_overallOpponent_Authentic)\n",
    "    newdf$overallOpponent_Tone_residuals = residuals(model_overallOpponent_Tone)\n",
    "    newdf$overallOpponent_WC_residuals = residuals(model_overallOpponent_WC)\n",
    "    newdf$overallOpponentFlesch_residuals = residuals(model_overallOpponentFlesch)\n",
    "\n",
    "    model_full <- ordinal::clm(formula = sideAgreementPostTreatment ~ treatmentType + overallOpponent_i + overallOpponent_we + overallOpponent_you + overallOpponent_emo_pos + overallOpponent_emo_neg + overallOpponent_Analytic + overallOpponent_Clout + overallOpponent_Authentic + overallOpponent_Tone + log(overallOpponent_WC) + overallOpponentFlesch, nominal= ~ sideAgreementPreTreatment, data=bdf, link=\"logit\")\n",
    "    model_residual <- ordinal::clm(formula = sideAgreementPostTreatment ~ treatmentType + overallOpponent_i_residuals + overallOpponent_we_residuals + overallOpponent_you_residuals + overallOpponent_emo_pos_residuals + overallOpponent_emo_neg_residuals + overallOpponent_Analytic_residuals + overallOpponent_Clout_residuals + overallOpponent_Authentic_residuals + overallOpponent_Tone_residuals + overallOpponent_WC_residuals + overallOpponentFlesch_residuals, nominal= ~ sideAgreementPreTreatment, data=newdf, link=\"logit\")\n",
    "\n",
    "    if (model_full$cond.H > 1e8)\n",
    "    {\n",
    "        return(c(NA, NA, NA))\n",
    "    }\n",
    "\n",
    "    result = c(1 - model_full$coefficients[\"treatmentTypeHuman-AI\"] / model_residual$coefficients[\"treatmentTypeHuman-AI\"],\n",
    "               1 - model_full$coefficients[\"treatmentTypeHuman-Human, personalized\"] / model_residual$coefficients[\"treatmentTypeHuman-Human, personalized\"],\n",
    "               1 - model_full$coefficients[\"treatmentTypeHuman-AI, personalized\"] / model_residual$coefficients[\"treatmentTypeHuman-AI, personalized\"])\n",
    "\n",
    "    return(result)\n",
    "}\n",
    "\n",
    "set.seed(42)\n",
    "boot_results <- boot(data=mydf, statistic=ba, R=1000)"
   ]
  },
  {
   "cell_type": "code",
   "execution_count": 23,
   "metadata": {
    "vscode": {
     "languageId": "r"
    }
   },
   "outputs": [
    {
     "data": {
      "text/plain": [
       "\n",
       "ORDINARY NONPARAMETRIC BOOTSTRAP\n",
       "\n",
       "\n",
       "Call:\n",
       "boot(data = mydf, statistic = ba, R = 1000)\n",
       "\n",
       "\n",
       "Bootstrap Statistics :\n",
       "        original     bias    std. error\n",
       "t1*  1.200620184 -0.7076269   30.260289\n",
       "t2* -0.001059197  0.2926603    5.696961\n",
       "t3*  0.328258319  0.2546496    6.194360"
      ]
     },
     "metadata": {},
     "output_type": "display_data"
    }
   ],
   "source": [
    "boot_results"
   ]
  },
  {
   "cell_type": "code",
   "execution_count": 24,
   "metadata": {
    "vscode": {
     "languageId": "r"
    }
   },
   "outputs": [
    {
     "name": "stderr",
     "output_type": "stream",
     "text": [
      "Warning message in boot.ci(boot_results, 0.95, index = 3):\n",
      "\"bootstrap variances needed for studentized intervals\"\n"
     ]
    },
    {
     "data": {
      "text/plain": [
       "BOOTSTRAP CONFIDENCE INTERVAL CALCULATIONS\n",
       "Based on 940 bootstrap replicates\n",
       "\n",
       "CALL : \n",
       "boot.ci(boot.out = boot_results, conf = 0.95, index = 3)\n",
       "\n",
       "Intervals : \n",
       "Level      Normal              Basic         \n",
       "95%   (-12.0671,  12.2143 )   ( -1.0098,   1.1276 )  \n",
       "\n",
       "Level     Percentile            BCa          \n",
       "95%   (-0.4711,  1.6663 )   (-0.4849,  1.6127 )  \n",
       "Calculations and Intervals on Original Scale"
      ]
     },
     "metadata": {},
     "output_type": "display_data"
    }
   ],
   "source": [
    "boot.ci(boot_results, 0.95, index=3)"
   ]
  },
  {
   "cell_type": "markdown",
   "metadata": {},
   "source": [
    "### Opinion fluidity\n"
   ]
  },
  {
   "cell_type": "code",
   "execution_count": 25,
   "metadata": {
    "vscode": {
     "languageId": "r"
    }
   },
   "outputs": [
    {
     "name": "stdout",
     "output_type": "stream",
     "text": [
      "nobs:  750 \n",
      "dof: 741 \n"
     ]
    },
    {
     "data": {
      "text/plain": [
       "\n",
       "Call:\n",
       "glm(formula = changedAgreement ~ treatmentType + topicPrior + \n",
       "    topicClusterNew + topicKnowledge + topicDebatableness, family = \"binomial\", \n",
       "    data = mydf)\n",
       "\n",
       "Coefficients:\n",
       "                                       Estimate Std. Error z value Pr(>|z|)   \n",
       "(Intercept)                             2.57360    1.80859   1.423  0.15474   \n",
       "treatmentTypeHuman-AI                   0.01203    0.20278   0.059  0.95270   \n",
       "treatmentTypeHuman-Human, personalized  0.01294    0.20286   0.064  0.94913   \n",
       "treatmentTypeHuman-AI, personalized     0.39734    0.20513   1.937  0.05274 . \n",
       "topicPrior                             -0.14014    0.06477  -2.164  0.03050 * \n",
       "topicClusterNew2                        0.21393    0.18576   1.152  0.24947   \n",
       "topicClusterNew3                        0.01641    0.18826   0.087  0.93055   \n",
       "topicKnowledge                         -1.31233    0.40633  -3.230  0.00124 **\n",
       "topicDebatableness                      0.79543    0.42315   1.880  0.06014 . \n",
       "---\n",
       "Signif. codes:  0 '***' 0.001 '**' 0.01 '*' 0.05 '.' 0.1 ' ' 1\n",
       "\n",
       "(Dispersion parameter for binomial family taken to be 1)\n",
       "\n",
       "    Null deviance: 1039.6  on 749  degrees of freedom\n",
       "Residual deviance: 1014.7  on 741  degrees of freedom\n",
       "AIC: 1032.7\n",
       "\n",
       "Number of Fisher Scoring iterations: 4\n"
      ]
     },
     "metadata": {},
     "output_type": "display_data"
    }
   ],
   "source": [
    "model <- glm(formula = changedAgreement ~ treatmentType + topicPrior + topicClusterNew + topicKnowledge + topicDebatableness, data=mydf, family=\"binomial\")\n",
    "write.csv(tidy(model), \"data/analysis_paper/opinion_fluidity.csv\", row.names = FALSE)\n",
    "cat(\"nobs: \", nobs(model), \"\\n\")\n",
    "cat(\"dof:\", model$df.residual, \"\\n\")\n",
    "summary(model)"
   ]
  },
  {
   "cell_type": "markdown",
   "metadata": {},
   "source": [
    "### Perceived opponent\n"
   ]
  },
  {
   "cell_type": "code",
   "execution_count": 26,
   "metadata": {
    "vscode": {
     "languageId": "r"
    }
   },
   "outputs": [
    {
     "name": "stdout",
     "output_type": "stream",
     "text": [
      "nobs:  750 \n",
      "dof: 735 \n"
     ]
    },
    {
     "data": {
      "text/plain": [
       "\n",
       "Call:\n",
       "glm(formula = perceivedOpponentBinary ~ treatmentType + overallOpponent_i + \n",
       "    overallOpponent_we + overallOpponent_you + overallOpponent_emo_pos + \n",
       "    overallOpponent_emo_neg + overallOpponent_Analytic + overallOpponent_Clout + \n",
       "    overallOpponent_Authentic + overallOpponent_Tone + log(overallOpponent_WC) + \n",
       "    overallOpponentFlesch, family = \"binomial\", data = mydf)\n",
       "\n",
       "Coefficients:\n",
       "                                       Estimate Std. Error z value Pr(>|z|)  \n",
       "(Intercept)                            -1.22245    1.33643  -0.915   0.3603  \n",
       "treatmentTypeHuman-AI                   0.59260    0.34228   1.731   0.0834 .\n",
       "treatmentTypeHuman-Human, personalized -0.25552    0.20872  -1.224   0.2209  \n",
       "treatmentTypeHuman-AI, personalized     0.44300    0.33140   1.337   0.1813  \n",
       "overallOpponent_i                      -0.11675    0.07829  -1.491   0.1359  \n",
       "overallOpponent_we                     -0.02633    0.06451  -0.408   0.6831  \n",
       "overallOpponent_you                     0.07771    0.11797   0.659   0.5101  \n",
       "overallOpponent_emo_pos                 0.13817    0.18383   0.752   0.4523  \n",
       "overallOpponent_emo_neg                 0.05792    0.09363   0.619   0.5362  \n",
       "overallOpponent_Analytic                0.50632    0.44922   1.127   0.2597  \n",
       "overallOpponent_Clout                  -0.34160    0.46482  -0.735   0.4624  \n",
       "overallOpponent_Authentic              -0.06691    0.35741  -0.187   0.8515  \n",
       "overallOpponent_Tone                   -0.19573    0.30223  -0.648   0.5172  \n",
       "log(overallOpponent_WC)                 0.37714    0.23672   1.593   0.1111  \n",
       "overallOpponentFlesch                  -1.20535    0.57343  -2.102   0.0356 *\n",
       "---\n",
       "Signif. codes:  0 '***' 0.001 '**' 0.01 '*' 0.05 '.' 0.1 ' ' 1\n",
       "\n",
       "(Dispersion parameter for binomial family taken to be 1)\n",
       "\n",
       "    Null deviance: 1016.37  on 749  degrees of freedom\n",
       "Residual deviance:  938.26  on 735  degrees of freedom\n",
       "AIC: 968.26\n",
       "\n",
       "Number of Fisher Scoring iterations: 4\n"
      ]
     },
     "metadata": {},
     "output_type": "display_data"
    }
   ],
   "source": [
    "model <- glm(formula = perceivedOpponentBinary ~ treatmentType + overallOpponent_i + overallOpponent_we + overallOpponent_you + overallOpponent_emo_pos + overallOpponent_emo_neg + overallOpponent_Analytic + overallOpponent_Clout + overallOpponent_Authentic + overallOpponent_Tone + log(overallOpponent_WC) + overallOpponentFlesch , data=mydf, family=\"binomial\")\n",
    "write.csv(tidy(model), \"data/analysis_paper/perceived_opponent.csv\", row.names = FALSE)\n",
    "cat(\"nobs: \", nobs(model), \"\\n\")\n",
    "cat(\"dof:\", model$df.residual, \"\\n\")\n",
    "summary(model)"
   ]
  },
  {
   "cell_type": "code",
   "execution_count": 27,
   "metadata": {
    "vscode": {
     "languageId": "r"
    }
   },
   "outputs": [
    {
     "name": "stdout",
     "output_type": "stream",
     "text": [
      "dof: 726 \n"
     ]
    },
    {
     "data": {
      "text/plain": [
       "formula: sideAgreementPostTreatment ~ treatmentType + perceivedOpponentBinary\n",
       "nominal: ~sideAgreementPreTreatment\n",
       "data:    mydf\n",
       "\n",
       " link  threshold nobs logLik  AIC     niter max.grad cond.H \n",
       " logit flexible  750  -955.18 1958.36 8(0)  3.23e-10 3.3e+02\n",
       "\n",
       "Coefficients:\n",
       "                                       Estimate Std. Error z value Pr(>|z|)   \n",
       "treatmentTypeHuman-AI                    0.1199     0.1947   0.616  0.53812   \n",
       "treatmentTypeHuman-Human, personalized  -0.1387     0.1937  -0.716  0.47384   \n",
       "treatmentTypeHuman-AI, personalized      0.5319     0.1879   2.831  0.00464 **\n",
       "perceivedOpponentBinary                  0.3178     0.1469   2.164  0.03046 * \n",
       "---\n",
       "Signif. codes:  0 '***' 0.001 '**' 0.01 '*' 0.05 '.' 0.1 ' ' 1\n",
       "\n",
       "Threshold coefficients:\n",
       "                               Estimate Std. Error z value\n",
       "1|2.(Intercept)                 -1.5507     0.1879  -8.251\n",
       "2|3.(Intercept)                 -0.2738     0.1462  -1.873\n",
       "3|4.(Intercept)                  1.2665     0.1532   8.264\n",
       "4|5.(Intercept)                  2.5335     0.1855  13.657\n",
       "1|2.sideAgreementPreTreatment1  -1.8949     0.2536  -7.471\n",
       "2|3.sideAgreementPreTreatment1  -0.7432     0.2509  -2.961\n",
       "3|4.sideAgreementPreTreatment1   0.2187     0.3559   0.615\n",
       "4|5.sideAgreementPreTreatment1   0.3629     0.5180   0.701\n",
       "1|2.sideAgreementPreTreatment2  -0.7402     0.3145  -2.354\n",
       "2|3.sideAgreementPreTreatment2  -1.3414     0.2419  -5.544\n",
       "3|4.sideAgreementPreTreatment2  -0.6170     0.3364  -1.834\n",
       "4|5.sideAgreementPreTreatment2  -0.3854     0.5182  -0.744\n",
       "1|2.sideAgreementPreTreatment3  -1.9307     0.6359  -3.036\n",
       "2|3.sideAgreementPreTreatment3  -0.7409     0.2814  -2.633\n",
       "3|4.sideAgreementPreTreatment3  -1.7793     0.2725  -6.530\n",
       "4|5.sideAgreementPreTreatment3  -0.5821     0.4397  -1.324\n",
       "1|2.sideAgreementPreTreatment4   1.3403     0.6787   1.975\n",
       "2|3.sideAgreementPreTreatment4  -0.5184     0.3574  -1.450\n",
       "3|4.sideAgreementPreTreatment4  -0.6431     0.2542  -2.530\n",
       "4|5.sideAgreementPreTreatment4  -2.0604     0.3269  -6.302"
      ]
     },
     "metadata": {},
     "output_type": "display_data"
    }
   ],
   "source": [
    "# Including perceivedOpponent\n",
    "model <- ordinal::clm(formula = sideAgreementPostTreatment ~ treatmentType + perceivedOpponentBinary, nominal= ~ sideAgreementPreTreatment, data=mydf, link=\"logit\")\n",
    "write.csv(tidy(model), \"data/analysis_paper/model_perceivedOpponent.csv\", row.names = FALSE)\n",
    "cat(\"dof:\", model$df, \"\\n\")\n",
    "summary(model)"
   ]
  },
  {
   "cell_type": "markdown",
   "metadata": {},
   "source": [
    "### Opponent agreement pre-treatment\n"
   ]
  },
  {
   "cell_type": "code",
   "execution_count": 28,
   "metadata": {
    "vscode": {
     "languageId": "r"
    }
   },
   "outputs": [],
   "source": [
    "# Only keep datapoints where the the pre-treatment agreements are consistent with the assigned side\n",
    "mydf_restricted = mydf[((mydf$treatmentType %in% c(\"Human-Human\", \"Human-Human, personalized\") & \n",
    "                            (mydf$sideAgreementPreTreatment %in% c(1, 2) & mydf$opponentSideAgreementPreTreatment %in% c(1, 2))) \n",
    "                        | (mydf$treatmentType %in% c(\"Human-AI\", \"Human-AI, personalized\") & \n",
    "                            mydf$sideAgreementPreTreatment %in% c(1, 2))),]"
   ]
  },
  {
   "cell_type": "code",
   "execution_count": 29,
   "metadata": {
    "vscode": {
     "languageId": "r"
    }
   },
   "outputs": [
    {
     "data": {
      "text/plain": [
       "\n",
       "              Human-Human                  Human-AI Human-Human, personalized \n",
       "                       40                        69                        18 \n",
       "   Human-AI, personalized \n",
       "                       62 "
      ]
     },
     "metadata": {},
     "output_type": "display_data"
    }
   ],
   "source": [
    "# print how many datapoints per treatmentType\n",
    "table(mydf_restricted$treatmentType)"
   ]
  },
  {
   "cell_type": "code",
   "execution_count": 30,
   "metadata": {
    "vscode": {
     "languageId": "r"
    }
   },
   "outputs": [
    {
     "name": "stderr",
     "output_type": "stream",
     "text": [
      "Warning message:\n",
      "\"contrasts dropped from factor sideAgreementPreTreatment due to missing levels\"\n",
      "Warning message:\n",
      "\"contrasts dropped from factor sideAgreementPreTreatment due to missing levels\"\n"
     ]
    },
    {
     "name": "stdout",
     "output_type": "stream",
     "text": [
      "dof: 178 \n"
     ]
    },
    {
     "data": {
      "text/plain": [
       "formula: sideAgreementPostTreatment ~ treatmentType\n",
       "nominal: ~sideAgreementPreTreatment\n",
       "data:    mydf_restricted\n",
       "\n",
       " link  threshold nobs logLik  AIC    niter max.grad cond.H \n",
       " logit flexible  189  -238.98 499.96 6(0)  1.62e-13 1.3e+02\n",
       "\n",
       "Coefficients:\n",
       "                                       Estimate Std. Error z value Pr(>|z|)  \n",
       "treatmentTypeHuman-AI                   -0.2887     0.3814  -0.757    0.449  \n",
       "treatmentTypeHuman-Human, personalized  -0.4789     0.5553  -0.862    0.388  \n",
       "treatmentTypeHuman-AI, personalized      0.8011     0.3779   2.120    0.034 *\n",
       "---\n",
       "Signif. codes:  0 '***' 0.001 '**' 0.01 '*' 0.05 '.' 0.1 ' ' 1\n",
       "\n",
       "Threshold coefficients:\n",
       "                               Estimate Std. Error z value\n",
       "1|2.(Intercept)                  0.5408     0.3497   1.547\n",
       "2|3.(Intercept)                  1.3426     0.3713   3.616\n",
       "3|4.(Intercept)                  2.3830     0.4468   5.333\n",
       "4|5.(Intercept)                  3.5645     0.6503   5.481\n",
       "1|2.sideAgreementPreTreatment2  -1.8445     0.3398  -5.428\n",
       "2|3.sideAgreementPreTreatment2  -1.0169     0.3294  -3.088\n",
       "3|4.sideAgreementPreTreatment2  -0.2285     0.4657  -0.491\n",
       "4|5.sideAgreementPreTreatment2  -0.3500     0.7486  -0.468"
      ]
     },
     "metadata": {},
     "output_type": "display_data"
    }
   ],
   "source": [
    "# Key analysis, restricted to people with pre-treatment scores consistent with the assigned side\n",
    "model <- ordinal::clm(formula = sideAgreementPostTreatment ~ treatmentType, nominal= ~ sideAgreementPreTreatment, data=mydf_restricted, link=\"logit\")\n",
    "write.csv(tidy(model), \"data/analysis_paper/model_restricted.csv\", row.names = FALSE)\n",
    "cat(\"dof:\", model$df, \"\\n\")\n",
    "summary(model)"
   ]
  },
  {
   "cell_type": "code",
   "execution_count": 31,
   "metadata": {
    "vscode": {
     "languageId": "r"
    }
   },
   "outputs": [
    {
     "name": "stdout",
     "output_type": "stream",
     "text": [
      "dof: 428 \n"
     ]
    },
    {
     "data": {
      "text/plain": [
       "formula: \n",
       "sideAgreementPostTreatment ~ treatmentType + opponentSideAgreementPreTreatment\n",
       "nominal: ~sideAgreementPreTreatment\n",
       "data:    mydf_human\n",
       "\n",
       " link  threshold nobs logLik  AIC     niter max.grad cond.H \n",
       " logit flexible  450  -566.26 1176.52 7(1)  9.89e-13 1.7e+03\n",
       "\n",
       "Coefficients:\n",
       "                                       Estimate Std. Error z value Pr(>|z|)\n",
       "treatmentTypeHuman-Human, personalized -0.17823    0.19422  -0.918    0.359\n",
       "opponentSideAgreementPreTreatment       0.07747    0.06668   1.162    0.245\n",
       "\n",
       "Threshold coefficients:\n",
       "                               Estimate Std. Error z value\n",
       "1|2.(Intercept)                 -1.5033     0.2795  -5.379\n",
       "2|3.(Intercept)                 -0.1510     0.2392  -0.632\n",
       "3|4.(Intercept)                  1.2455     0.2477   5.028\n",
       "4|5.(Intercept)                  2.4654     0.2803   8.795\n",
       "1|2.sideAgreementPreTreatment1  -2.0473     0.3321  -6.166\n",
       "2|3.sideAgreementPreTreatment1  -0.3793     0.3365  -1.127\n",
       "3|4.sideAgreementPreTreatment1   0.4599     0.4829   0.952\n",
       "4|5.sideAgreementPreTreatment1   0.4344     0.6634   0.655\n",
       "1|2.sideAgreementPreTreatment2  -0.8795     0.4129  -2.130\n",
       "2|3.sideAgreementPreTreatment2  -1.7328     0.3249  -5.333\n",
       "3|4.sideAgreementPreTreatment2  -0.7382     0.4710  -1.567\n",
       "4|5.sideAgreementPreTreatment2  -0.5307     0.6635  -0.800\n",
       "1|2.sideAgreementPreTreatment3  -1.8167     0.7906  -2.298\n",
       "2|3.sideAgreementPreTreatment3  -0.3733     0.3392  -1.100\n",
       "3|4.sideAgreementPreTreatment3  -1.8327     0.3578  -5.122\n",
       "4|5.sideAgreementPreTreatment3  -0.0631     0.5776  -0.109\n",
       "1|2.sideAgreementPreTreatment4   1.6748     0.8064   2.077\n",
       "2|3.sideAgreementPreTreatment4  -0.5043     0.3973  -1.269\n",
       "3|4.sideAgreementPreTreatment4  -0.3209     0.3109  -1.032\n",
       "4|5.sideAgreementPreTreatment4  -2.0952     0.4571  -4.584"
      ]
     },
     "metadata": {},
     "output_type": "display_data"
    }
   ],
   "source": [
    "mydf_human = mydf[mydf$treatmentType %in% c(\"Human-Human\", \"Human-Human, personalized\"), ]\n",
    "model <- ordinal::clm(formula = sideAgreementPostTreatment ~ treatmentType + opponentSideAgreementPreTreatment, nominal= ~ sideAgreementPreTreatment, data=mydf_human, link=\"logit\")\n",
    "cat(\"dof:\", model$df, \"\\n\")\n",
    "summary(model)"
   ]
  },
  {
   "cell_type": "code",
   "execution_count": 32,
   "metadata": {
    "vscode": {
     "languageId": "r"
    }
   },
   "outputs": [
    {
     "name": "stdout",
     "output_type": "stream",
     "text": [
      "dof: 726 \n"
     ]
    },
    {
     "data": {
      "text/plain": [
       "formula: \n",
       "sideAgreementPostTreatment ~ treatmentType + opponentSideAgreementPreTreatment\n",
       "nominal: ~sideAgreementPreTreatment\n",
       "data:    mydf_opponentagreement\n",
       "\n",
       " link  threshold nobs logLik  AIC     niter max.grad cond.H \n",
       " logit flexible  750  -956.77 1961.54 8(0)  2.90e-10 1.8e+03\n",
       "\n",
       "Coefficients:\n",
       "                                       Estimate Std. Error z value Pr(>|z|)   \n",
       "treatmentTypeHuman-AI                   0.20214    0.19157   1.055   0.2914   \n",
       "treatmentTypeHuman-Human, personalized -0.17069    0.19271  -0.886   0.3758   \n",
       "treatmentTypeHuman-AI, personalized     0.59752    0.18578   3.216   0.0013 **\n",
       "opponentSideAgreementPreTreatment       0.08116    0.06598   1.230   0.2187   \n",
       "---\n",
       "Signif. codes:  0 '***' 0.001 '**' 0.01 '*' 0.05 '.' 0.1 ' ' 1\n",
       "\n",
       "Threshold coefficients:\n",
       "                               Estimate Std. Error z value\n",
       "1|2.(Intercept)                 -1.4686     0.2617  -5.613\n",
       "2|3.(Intercept)                 -0.1956     0.2345  -0.834\n",
       "3|4.(Intercept)                  1.3384     0.2388   5.605\n",
       "4|5.(Intercept)                  2.6046     0.2610   9.979\n",
       "1|2.sideAgreementPreTreatment1  -1.9121     0.2540  -7.529\n",
       "2|3.sideAgreementPreTreatment1  -0.7721     0.2510  -3.076\n",
       "3|4.sideAgreementPreTreatment1   0.1835     0.3559   0.516\n",
       "4|5.sideAgreementPreTreatment1   0.3272     0.5179   0.632\n",
       "1|2.sideAgreementPreTreatment2  -0.7363     0.3142  -2.343\n",
       "2|3.sideAgreementPreTreatment2  -1.3244     0.2415  -5.483\n",
       "3|4.sideAgreementPreTreatment2  -0.6157     0.3363  -1.831\n",
       "4|5.sideAgreementPreTreatment2  -0.3884     0.5181  -0.750\n",
       "1|2.sideAgreementPreTreatment3  -1.9527     0.6360  -3.070\n",
       "2|3.sideAgreementPreTreatment3  -0.7608     0.2815  -2.702\n",
       "3|4.sideAgreementPreTreatment3  -1.7711     0.2721  -6.508\n",
       "4|5.sideAgreementPreTreatment3  -0.5648     0.4394  -1.285\n",
       "1|2.sideAgreementPreTreatment4   1.3459     0.6786   1.984\n",
       "2|3.sideAgreementPreTreatment4  -0.5131     0.3572  -1.436\n",
       "3|4.sideAgreementPreTreatment4  -0.6460     0.2540  -2.543\n",
       "4|5.sideAgreementPreTreatment4  -2.0668     0.3268  -6.324"
      ]
     },
     "metadata": {},
     "output_type": "display_data"
    }
   ],
   "source": [
    "mydf_opponentagreement = mydf\n",
    "\n",
    "# opponentSideAgreementPreTreatment should be 1 if the treatmentType is AI, and kept as it is otherwise\n",
    "mydf_opponentagreement = transform(mydf_opponentagreement, opponentSideAgreementPreTreatment = ifelse(treatmentType %in% c(\"Human-AI\", \"Human-AI, personalized\"), 3, opponentSideAgreementPreTreatment))\n",
    "\n",
    "# # Including opponentSideAgreementPreTreatment\n",
    "model <- ordinal::clm(formula = sideAgreementPostTreatment ~ treatmentType + opponentSideAgreementPreTreatment, nominal= ~ sideAgreementPreTreatment, data=mydf_opponentagreement, link=\"logit\")\n",
    "write.csv(tidy(model), \"data/analysis_paper/model_opponentAgreement.csv\", row.names = FALSE)\n",
    "cat(\"dof:\", model$df, \"\\n\")\n",
    "summary(model)"
   ]
  }
 ],
 "metadata": {
  "kernelspec": {
   "display_name": "R",
   "language": "R",
   "name": "ir"
  },
  "language_info": {
   "codemirror_mode": "r",
   "file_extension": ".r",
   "mimetype": "text/x-r-source",
   "name": "R",
   "pygments_lexer": "r",
   "version": "4.3.1"
  }
 },
 "nbformat": 4,
 "nbformat_minor": 2
}
